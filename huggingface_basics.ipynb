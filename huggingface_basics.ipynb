{
 "cells": [
  {
   "cell_type": "markdown",
   "metadata": {
    "id": "view-in-github"
   },
   "source": [
    "<a href=\"https://colab.research.google.com/github/olavvn/7-huggingface_practice/blob/master/huggingface_basics.ipynb\" target=\"_parent\"><img src=\"https://colab.research.google.com/assets/colab-badge.svg\" alt=\"Open In Colab\"/></a>"
   ]
  },
  {
   "cell_type": "code",
   "execution_count": null,
   "metadata": {
    "colab": {
     "base_uri": "https://localhost:8080/"
    },
    "executionInfo": {
     "elapsed": 17212,
     "status": "ok",
     "timestamp": 1759400904922,
     "user": {
      "displayName": "박현빈",
      "userId": "10918390056247911025"
     },
     "user_tz": -540
    },
    "id": "8Gd5PVm7H7o7",
    "outputId": "d2b11ae4-c4d3-4730-c7b0-a6f9794b9d29"
   },
   "outputs": [],
   "source": [
    "!pip install transformers datasets huggingface_hub"
   ]
  },
  {
   "cell_type": "markdown",
   "metadata": {
    "id": "6dgKU45fCffl"
   },
   "source": [
    "# 1. 허깅페이스 개요"
   ]
  },
  {
   "cell_type": "markdown",
   "metadata": {
    "id": "s6olgr_ite6K"
   },
   "source": [
    "## 실습1. BERT와 GPT-2 모델을 활용할 때 허깅페이스 트랜스포머 코드 비교"
   ]
  },
  {
   "cell_type": "code",
   "execution_count": null,
   "metadata": {
    "colab": {
     "base_uri": "https://localhost:8080/",
     "height": 540,
     "referenced_widgets": [
      "1a3cbfff8c6f47a1bd0b5a96495bba05",
      "3b17b910f8fd442f85476b94f8642d5b",
      "3e83a55a0c8a410998425f833f14c4ef",
      "04bcb6e03a1747f6b1c83c162f9639f3",
      "133781e7945141459dc059d60a3f5c91",
      "c8b8d66329e24cb49be1b47185f00fb1",
      "11c08b722c8f407dafac61d3e9b5d6bf",
      "66ee46f9e9f04e7692b52e046a8ca3c5",
      "8c70632342334abe937443ccf80be184",
      "f09a3be81dd14049847957bf3dbdaa56",
      "3d5476b921c04089ba12603201bd6a23",
      "cbfaa993322448a6b632199df8223323",
      "b3527db893dd4a95861fce976cdfc793",
      "a6d982aba3e846619f278a1b2e6c01a0",
      "117f1e84c7f54fbca38970b2bccd5908",
      "b5e9c9eea30d4a02adfd2262aca700e0",
      "a31d0aae46bb46478990a393cd7acb0a",
      "a9fa96fe745f4082b8264741c98d432f",
      "d404cf04e37148e1b3a9ad732eca9403",
      "80787df7ab48418584f850ec9578a707",
      "4b3fbf9c6eaf46c7b0ca77b2503a809d",
      "fd101629a47d4e0784fa621777b23688",
      "c17898abfda944388f99831e9d909096",
      "f6b7f090f06f49eda6ea104ceef2dae9",
      "a4e8c8079aa5478daa8260d97ef3955a",
      "979ba59f4ed44867b557e441fb538c95",
      "12db0c41cd4c4526acdba52cf7d9b5a8",
      "c68b0a6f775941dca84eac4f6c37811d",
      "9996bc7e9e0d471a845b221a0d10b0c9",
      "8a78cd185eed471cbca74aea09df22f2",
      "95da5961a09649409b5442c28e4eaa71",
      "61dfa5de4f42402aa1e87ae3fb99b1dc",
      "826b02eed0ac41d6a53a4d67c061d30d",
      "71d36b9b04cb48c88d0a8fb8753c5d8c",
      "cb57fcc454fc4b53a25f2f04a64ac528",
      "eb38922a756a4ee58cfe7854e6737c23",
      "7148e3e8f579490abd24183b0a22c1ac",
      "8e60313503a945ffab6aa491d6a93be7",
      "ce371d9d99a54609a91fa104f99f0ff8",
      "ee414e1f32e442819b416c86118f285e",
      "7a9ff413d5a842819aae3d7e56362e6c",
      "913dc411b0574b93a45094c37175cefe",
      "ff555987ec4c4ef2957d3e63c2310e88",
      "65ac90c4a61f4cf2a2cbddabde3dd788",
      "33bb96123a214dcf8cd9993c9187f45e",
      "bf6814f78bbd40fab31dd6475a59e158",
      "5784371b679c4a4c84022c84c067e626",
      "c131f71882684b3fa6b66926a7474dbd",
      "85ed8f959e8f4eb984abc7add4e586fb",
      "a1c25f95a99f4e5cb2912580a7502497",
      "de1737e9c3c540b19254e69c47dc7551",
      "72eca4e6fe7f415a8015dbb572ec8813",
      "49695cbbb9154ca589c4c1b8c3935952",
      "8f1b0f84a2f44360ab1c42e5198e14d6",
      "a0ce6381e14c4994870af84f0f77914e",
      "e58eade961b64fb7b47f89ecb91e6a5d",
      "a85887fb08254bd3b29b4b3fae945e4a",
      "b786e01b39b74826ad1f6063b0c5f0fc",
      "95efa47969184459af81b7968340f596",
      "0dcc99d9a7fe47208abc6d81ed71a67b",
      "050f8b72c379498a80f81cdeb7d79c1e",
      "db1977678ff64c5881e438f9bdd0ef0a",
      "a543d43d260a4aaaa90c99ce56597a6b",
      "d23779e38f344a7ca9c21b7647f87e24",
      "b7aa6dfe4e1447a5bdf242c375019475",
      "37eec2ef3db84584a1c71ed7f66c8ccf",
      "34288f77e84440a697ef9c3b5a1afd7f",
      "199730ab9452425e88ec968be2820bdc",
      "c5cb662b512c4221b6fcc2b5bdc4cffd",
      "18bb28bd7a8647fbacce18215d7129cc",
      "bd376d1218974bad964a72a8a6de80b3",
      "dbf6359dc1584ab383cc71b111de734b",
      "a9a61da10e3f4fdfbdfe9e9d7c9e2a13",
      "bc68b26821b440aca5775d394e3a2cee",
      "b19c105c067c461280774633726a20a1",
      "85fca6dfefdf4a0f89a4b0b945b5b408",
      "b68a0d1cf6754c0fbd5cf120e2308795",
      "b5b86212b6354b23a2caf7fec11d4898",
      "930900eea67f4614babad1b4e69623d7",
      "819b437bd60f4dd4be944d67259e7c28",
      "bce3b7f794694208b632798d838730a0",
      "32c124e14ba846649a4c5a87eda46ead",
      "06abe24b7c124263972cb0e942f9f766",
      "9d1d442111084c93bb1ebb62ec434bc7",
      "97ebaf085f3b41b59f181b050824e3bf",
      "5bec478a7f4f4b4a8c18f5ec4ac68c1e",
      "9add203b634e48c0b06b6e714c14087b",
      "8cc7615e6f144eb5964334da16a2a248",
      "2711535526b44a3a8653515cf884e0b7",
      "9d907d685cee48dc8c97eeed95e9506b",
      "e5d7981da5c748de99110af735dfc1cd",
      "6ec4e8cc341741e7953e749b6f4cff08",
      "abdc7635ba8a4345bd7ee0f4abb0e6d8",
      "401f80fc4a1747b2ac0e593baea9825d",
      "b42502b0ac2a48299e865c3ec7eb5c6a",
      "dddd6afb149549e7af296576fcc0bb8e",
      "ee389e5fcb6b43dc8e7faadb4fd0cfa9",
      "580f89187e0e4f58b8fc215cd8f6ff76",
      "05926b35875f4621b5a360fd7dba2802",
      "2ea5c19651654ecfa2a1f65a98366f0a",
      "6629002601bf456fbacd3e9e3b5d85a5",
      "3356cc1eca4042aa964ef8eaacd274e2",
      "a3088e49bc904f9f9065e433c27c7eb0",
      "ab449155036b4b7c9295d8ba6dbc5808",
      "f800ed2d369c4f9c9bb618e5b4f13142",
      "1ef9aa9efdee4692b6455ad75b1909b4",
      "9037ce363bf24739bb68136ebc948be2",
      "e681891e414a41659eb2b61c0d1010c2",
      "c303407220824a1ea3e9af8b530cfb8c",
      "f3345a2e1e2d4d269d8a7778cb338cdf",
      "10aa7e50b8984e0ba7a6eab23386a8c1",
      "f5e7d5b576994187bd03dbb844f28f5b",
      "fbf30ab9cff944dda7a08eaa51cc67db",
      "6e6b39c0feca4cf4aacabec69453a625",
      "484c7309d6b94819b3dd3a3dfbec64e4",
      "da1198110afc4c999089a16b5f0b6c72",
      "73c1201a54374f4d89029b7905d17921",
      "49f140c7128247c8852664a7b8ce840c",
      "e219ce1806254e8bb6ee8a2090c2d1f4",
      "33fa5a3a000f4afbb093706e1b1d3280",
      "43cf4d0064684e5fa3f2546ce49f0038",
      "90089d1dc5394e098d584089f198df55",
      "481d3237a30445b9b45e033b192c6d73",
      "58ae4891d6584eed88a48b8f0156db9a",
      "572dd82157e34a0fab626a84064bf2f5",
      "ee5dbf828a2f459f8e82092ee80f949d",
      "014dbfbbba504e589692430e7f21f456",
      "b20ab0f9aaf946a3960064d184953df6",
      "58b74b070026452cafa5b5a6a431cc83",
      "0bd826cf5e284af89aab9a5148481632",
      "b61ef68ebdc14469ba872a330ad450d3",
      "263d34a5439f42df83c0df7ddce7b617"
     ]
    },
    "executionInfo": {
     "elapsed": 87190,
     "status": "ok",
     "timestamp": 1759400992115,
     "user": {
      "displayName": "박현빈",
      "userId": "10918390056247911025"
     },
     "user_tz": -540
    },
    "id": "kAwjIEiKIBVj",
    "outputId": "b151facd-7bbd-4c8e-e539-40708b580aeb"
   },
   "outputs": [],
   "source": [
    "from transformers import AutoTokenizer, AutoModel, GPT2LMHeadModel\n",
    "\n",
    "text = \"What is Huggingface Transformers?\"\n",
    "# BERT 모델 활용\n",
    "bert_model = AutoModel.from_pretrained(\"bert-base-uncased\")\n",
    "bert_tokenizer = AutoTokenizer.from_pretrained('bert-base-uncased')\n",
    "encoded_input = bert_tokenizer(text, return_tensors='pt')\n",
    "bert_output = bert_model(**encoded_input)\n",
    "# GPT-2 모델 활용\n",
    "gpt_model = GPT2LMHeadModel.from_pretrained('gpt2')\n",
    "gpt_tokenizer = AutoTokenizer.from_pretrained('gpt2')\n",
    "encoded_input = gpt_tokenizer(text, return_tensors='pt')\n",
    "gpt_output = gpt_model(**encoded_input)"
   ]
  },
  {
   "cell_type": "code",
   "execution_count": null,
   "metadata": {
    "colab": {
     "base_uri": "https://localhost:8080/"
    },
    "executionInfo": {
     "elapsed": 39,
     "status": "ok",
     "timestamp": 1759400992166,
     "user": {
      "displayName": "박현빈",
      "userId": "10918390056247911025"
     },
     "user_tz": -540
    },
    "id": "_dzN1yuPQLoT",
    "outputId": "239d4024-59d3-474f-99a1-ef8920fd7e6b"
   },
   "outputs": [],
   "source": [
    "bert_output #출력값: 입력 텍스트의 각 토큰과 전체 시퀀스를 나타내는 고차원의 벡터(은닉 상태)\n",
    "gpt_output #출력값: 로짓(logits) 벡터. 각 단어(토큰)가 다음에 나올 확률을 나타내는 값\n",
    "#BERT: 분류 모델로, 텍스트화 불가, GPT: 다음 단어 예측하는 모델로, 텍스트 출력하려면 별도 작업 필요"
   ]
  },
  {
   "cell_type": "markdown",
   "metadata": {
    "id": "cUIzXEp9CleZ"
   },
   "source": [
    "# 2. 트랜스포머 모델 활용하기"
   ]
  },
  {
   "cell_type": "markdown",
   "metadata": {
    "id": "ZOmUG05vk3LG"
   },
   "source": [
    "## 2.1 모델 불러오기"
   ]
  },
  {
   "cell_type": "markdown",
   "metadata": {
    "id": "6oo8e5smt8gB"
   },
   "source": [
    "### 실습2. 모델 아이디로 바디만 불러오기"
   ]
  },
  {
   "cell_type": "code",
   "execution_count": null,
   "metadata": {
    "executionInfo": {
     "elapsed": 735,
     "status": "ok",
     "timestamp": 1759401003030,
     "user": {
      "displayName": "박현빈",
      "userId": "10918390056247911025"
     },
     "user_tz": -540
    },
    "id": "vsj_ZOu-CobD"
   },
   "outputs": [],
   "source": [
    "from transformers import AutoModel\n",
    "base_model_id = 'bert-base-uncased'\n",
    "base_model = AutoModel.from_pretrained(base_model_id)"
   ]
  },
  {
   "cell_type": "code",
   "execution_count": null,
   "metadata": {
    "colab": {
     "base_uri": "https://localhost:8080/"
    },
    "executionInfo": {
     "elapsed": 37,
     "status": "ok",
     "timestamp": 1759401006666,
     "user": {
      "displayName": "박현빈",
      "userId": "10918390056247911025"
     },
     "user_tz": -540
    },
    "id": "WQCcAaYSZavT",
    "outputId": "ea059122-e2ab-4282-8b98-b9443cb49157"
   },
   "outputs": [],
   "source": [
    "#model metadata\n",
    "base_model_config = base_model.config\n",
    "config_dict = base_model_config.__dict__\n",
    "config_dict"
   ]
  },
  {
   "cell_type": "markdown",
   "metadata": {
    "id": "TDARA5SpuJgt"
   },
   "source": [
    "### 실습3. 분류 헤드가 포함된 모델 불러오기"
   ]
  },
  {
   "cell_type": "code",
   "execution_count": null,
   "metadata": {
    "colab": {
     "base_uri": "https://localhost:8080/",
     "height": 81,
     "referenced_widgets": [
      "cff216f2daf2423696fc0fc365d2081b",
      "cb6a5cbac9e64915b71f14b5a8e3de4e",
      "9f3c132cd3304b7f8eca6e87cd48186c",
      "a1145c1d096342859632fc0f98b9e0de",
      "4e168bffb2a44b358d0a8bcd94398042",
      "71c4dc566c494fc7a4f29f2646f996be",
      "0538d504b57640bfba99518be3af1ece",
      "59f920b2753c4f738fb5a70484cf6d09",
      "81b5fd2a2617443d98dfb8ab576df6a4",
      "36c166403cda4cb5b00c3eb4025b3428",
      "322a9d6f4c7d47cbb180664803650d24",
      "78761ab5d9964482b796d16401b35120",
      "be71605edd6646748d63c6adacc5934a",
      "2ae8f3ee7c4e4841bfafd94791b20a89",
      "b8063d3caa9148238d90583f8944ced5",
      "c2acfa3f6fc34bc4a28051415bc9469d",
      "57bb3c13d0f3408789c4fec5aef6cc27",
      "47ce66225ba94c2da8a4ce4725216a40",
      "90a08677f1f447a196c3731a677c17a0",
      "3e275efd644b4b37a46eb5570856e6b9",
      "915ebaef218945f8b8a4364d90438703",
      "ba2b0825ac554673ad35f1003092137b"
     ]
    },
    "executionInfo": {
     "elapsed": 8123,
     "status": "ok",
     "timestamp": 1759401018984,
     "user": {
      "displayName": "박현빈",
      "userId": "10918390056247911025"
     },
     "user_tz": -540
    },
    "id": "XdfQpfUuCrdy",
    "outputId": "28e1404f-e06d-4de8-e8e7-811a3744825b"
   },
   "outputs": [],
   "source": [
    "from transformers import AutoModelForSequenceClassification\n",
    "classification_model_id = 'SamLowe/roberta-base-go_emotions'\n",
    "classification_model =AutoModelForSequenceClassification.from_pretrained(classification_model_id)"
   ]
  },
  {
   "cell_type": "code",
   "execution_count": null,
   "metadata": {
    "colab": {
     "base_uri": "https://localhost:8080/"
    },
    "executionInfo": {
     "elapsed": 13,
     "status": "ok",
     "timestamp": 1759401019014,
     "user": {
      "displayName": "박현빈",
      "userId": "10918390056247911025"
     },
     "user_tz": -540
    },
    "id": "eYOgjrjvafay",
    "outputId": "25461730-34f7-484d-fc49-1a0a26e18ec5"
   },
   "outputs": [],
   "source": [
    "#model metadata\n",
    "classification_model_config = classification_model.config\n",
    "config_dict = classification_model_config.__dict__\n",
    "config_dict\n",
    "#id2label확인"
   ]
  },
  {
   "cell_type": "markdown",
   "metadata": {
    "id": "XPfN9HZluWeW"
   },
   "source": [
    "### 실습4. 분류 헤드가 랜덤으로 초기화된 모델 불러오기"
   ]
  },
  {
   "cell_type": "code",
   "execution_count": null,
   "metadata": {
    "colab": {
     "base_uri": "https://localhost:8080/",
     "height": 141,
     "referenced_widgets": [
      "2c46c45d1e984ed7bac7e8cd6017b485",
      "3653d241bf4a4ba7825b18bbce9d94d9",
      "bd7265f9e68e4cf98b9d4b6d77fdefc8",
      "998e992667e746dfb1d2b3c7d874466a",
      "67503f9285fd477d920c4c762ca40262",
      "ad08639a93d64a30a74b7cc331b5b8f4",
      "07ceda01444344f7b9c3d59cab1aad25",
      "7abab059745746158604ae2740fd9c21",
      "734b8a81713e4866b87bcb17bd29bbb6",
      "7a592a281acb4041b21725803ef0fafb",
      "baf3deab26ec4da2abde60b4acad7d71",
      "ac352a2a0339433c8f433aaa80d41ab1",
      "67ff80edd07941d784577664def059ea",
      "acdb1a089b204ac1adde787c33548b0d",
      "2866c4b6f65f44638e841075f03fe179",
      "b0a4f0e7307f4bd48c910385a18ab31d",
      "ddd342d73bdf479298de02d4fdd5c11e",
      "3e65e308bfb0407b9f2f8d6ff5ae55a3",
      "6d0cb99b838046cd96f31161ec79a259",
      "5b19320752c44bbe8530089ef69fc683",
      "371d62bf81d440678757bfee85e292d8",
      "56f65657464541c4bf38d8ff0c9fbfa6"
     ]
    },
    "executionInfo": {
     "elapsed": 13712,
     "status": "ok",
     "timestamp": 1759401032755,
     "user": {
      "displayName": "박현빈",
      "userId": "10918390056247911025"
     },
     "user_tz": -540
    },
    "id": "KnQbDV3JCtwE",
    "outputId": "ad8c93ed-413f-4da4-8303-d7ab5b7e078b"
   },
   "outputs": [],
   "source": [
    "from transformers import AutoModelForSequenceClassification\n",
    "random_model_id = 'klue/roberta-base'\n",
    "random_model = AutoModelForSequenceClassification.from_pretrained(random_model_id)"
   ]
  },
  {
   "cell_type": "code",
   "execution_count": null,
   "metadata": {
    "colab": {
     "base_uri": "https://localhost:8080/"
    },
    "executionInfo": {
     "elapsed": 56,
     "status": "ok",
     "timestamp": 1759401032842,
     "user": {
      "displayName": "박현빈",
      "userId": "10918390056247911025"
     },
     "user_tz": -540
    },
    "id": "ZCGTWJXWlKgR",
    "outputId": "743ae9b6-bc98-4bbb-c1c6-8bff15a6135a"
   },
   "outputs": [],
   "source": [
    "#model metadata\n",
    "random_model_config = random_model.config\n",
    "config_dict = random_model_config.__dict__\n",
    "config_dict"
   ]
  },
  {
   "cell_type": "markdown",
   "metadata": {
    "id": "qqqZaxJnFOis"
   },
   "source": [
    "## 2.2 토크나이저 활용하기"
   ]
  },
  {
   "cell_type": "markdown",
   "metadata": {
    "id": "WeYgt5UzuwGC"
   },
   "source": [
    "### 실습5. 토크나이저 불러오기"
   ]
  },
  {
   "cell_type": "code",
   "execution_count": null,
   "metadata": {
    "colab": {
     "base_uri": "https://localhost:8080/",
     "height": 145,
     "referenced_widgets": [
      "8949ea964dac4e379bb5a3ffc1ce669b",
      "248619728d5e47c1b71a6be8f1bb529d",
      "dcdb6454c5674a68a742a74c96a7dd06",
      "c9805ca546ab48398238bb455c473433",
      "f1f17e4004e742cbade98026a710c7a8",
      "f2dab1128dba479792dee003a79dfe17",
      "f3dab3b83b48495fab136e9ddc4817cb",
      "073388ea5b494ffea77246454cd0a220",
      "ac756d49216e4562814e759eab21eb0d",
      "8b41b134a0724f4889ab35a8184415db",
      "69d274445fd4443bbe99f8e8d9922463",
      "a5216d2bbb1047e393d53a9d876056d6",
      "50cbfd46319d45089239eb866b9b6158",
      "6b7a62507b5b4558a7bbacfd5964a7d9",
      "8de10c41e557449ca9ce47f57c0ad2d2",
      "0d041ce53a2343058f7e4f6fff2e423d",
      "190f67361aaf47dd9825ba27ada100f2",
      "c0af9ae7fa2e4eee8e3a754a4547b725",
      "59e2bc8400be4861974574ff3aa4d822",
      "4b19ee0a54c246898ca9f7e8bfd1f202",
      "61561287b3024a549428f5f815eb943c",
      "b6fa4d950115492d8ab66d27a073282e",
      "884219059d41450cb0f4e2edea80d9e7",
      "cb5b9659055b41dc9bb15ae864f3df5b",
      "cf26ca57a0354192b6836022e7f8d379",
      "4c143b4d17874ab587bc93a1df09a14c",
      "82802dd94ea84366b109d7649699ce73",
      "e59dd407bf574b3e909f521db379338a",
      "3799d39c516742cab2924d7d99bc5983",
      "96dea393ce7c4d28a278980b68fc9092",
      "81f7d5f7e7c74ef5bb0890591bf2cd67",
      "94b7623e0ffb4ffc96ac7729127b19bb",
      "b1ae9bae022b4b9992a5c0beaf4084dc",
      "022a21b7d09f45f286e7f03557474041",
      "986f33596d8442f187307eecbe5658e6",
      "3a3685fb5ff043c6bc0e9a1f516d23a1",
      "7975bf84a2af4be9a411f8a25888956f",
      "345a7e5dfd6c4b16a29452d9c3ecb86e",
      "3770a8877f8f4d03b1fcc5eb58af8f62",
      "2fd0110387f2474792cd6dd6f9ddd55b",
      "4c308c15b5664e468d6019ef2fbb70c1",
      "2bb585626ebc420387c98769ef4fa44b",
      "bd9ef09db0bf4c439d02d80276f5a36b",
      "ee9402e895754427b80a53658f684da7"
     ]
    },
    "executionInfo": {
     "elapsed": 1510,
     "status": "ok",
     "timestamp": 1759401034354,
     "user": {
      "displayName": "박현빈",
      "userId": "10918390056247911025"
     },
     "user_tz": -540
    },
    "id": "GOS1p907u1CO",
    "outputId": "3e733556-bece-4c0f-9c7a-0a58567794dc"
   },
   "outputs": [],
   "source": [
    "from transformers import AutoTokenizer\n",
    "model_id = 'klue/roberta-base'\n",
    "tokenizer = AutoTokenizer.from_pretrained(model_id)"
   ]
  },
  {
   "cell_type": "markdown",
   "metadata": {
    "id": "DKssSh_tu8v-"
   },
   "source": [
    "### 실습6. 토크나이저 사용하기"
   ]
  },
  {
   "cell_type": "code",
   "execution_count": null,
   "metadata": {
    "colab": {
     "base_uri": "https://localhost:8080/"
    },
    "executionInfo": {
     "elapsed": 39,
     "status": "ok",
     "timestamp": 1759401034399,
     "user": {
      "displayName": "박현빈",
      "userId": "10918390056247911025"
     },
     "user_tz": -540
    },
    "id": "iaX4LD4Eu3RL",
    "outputId": "f8da2521-5b29-4ad6-a7a2-6ee16b5e1964"
   },
   "outputs": [],
   "source": [
    "tokenized = tokenizer(\"토크나이저는 텍스트를 토큰 단위로 나눈다.\")\n",
    "print(tokenized)\n",
    "\n",
    "print()\n",
    "# ['[CLS]', '토크', '##나이', '##저', '##는', '텍스트', '##를', '토', '##큰', '단위', '##로', '나눈다', '[SEP]']\n",
    "\n",
    "print()\n",
    "# [CLS] 토크나이저는 텍스트를 토큰 단위로 나눈다 [SEP]\n",
    "\n",
    "print()\n",
    "# 토크나이저는 텍스트를 토큰 단위로 나눈다\n"
   ]
  },
  {
   "cell_type": "markdown",
   "metadata": {
    "id": "YjqS0r-avFl-"
   },
   "source": [
    "### 실습7. 토크나이저에 여러 문장 넣기"
   ]
  },
  {
   "cell_type": "code",
   "execution_count": null,
   "metadata": {
    "colab": {
     "base_uri": "https://localhost:8080/"
    },
    "executionInfo": {
     "elapsed": 15,
     "status": "ok",
     "timestamp": 1759401034412,
     "user": {
      "displayName": "박현빈",
      "userId": "10918390056247911025"
     },
     "user_tz": -540
    },
    "id": "vmcZndW0vGqC",
    "outputId": "a7baebe5-3bf7-42b2-bc92-d1750ffe3b18"
   },
   "outputs": [],
   "source": [
    "tokenizer(['첫 번째 문장', '두 번째 문장'])\n",
    "\n",
    "# {'input_ids': [[0, 1656, 1141, 3135, 6265, 2], [0, 864, 1141, 3135, 6265, 2]],\n",
    "# 'token_type_ids': [[0, 0, 0, 0, 0, 0], [0, 0, 0, 0, 0, 0]],\n",
    "# 'attention_mask': [[1, 1, 1, 1, 1, 1], [1, 1, 1, 1, 1, 1]]}"
   ]
  },
  {
   "cell_type": "markdown",
   "metadata": {
    "id": "On7iLMjHvMQd"
   },
   "source": [
    "### 실습8. 하나의 데이터에 여러 문장이 들어가는 경우"
   ]
  },
  {
   "cell_type": "code",
   "execution_count": null,
   "metadata": {
    "colab": {
     "base_uri": "https://localhost:8080/"
    },
    "executionInfo": {
     "elapsed": 55,
     "status": "ok",
     "timestamp": 1759401034503,
     "user": {
      "displayName": "박현빈",
      "userId": "10918390056247911025"
     },
     "user_tz": -540
    },
    "id": "oe9aqgr-vTOv",
    "outputId": "5db668d5-9b11-434b-faaf-67a77a24f292"
   },
   "outputs": [],
   "source": [
    "tokenizer([['첫 번째 문장', '두 번째 문장']])\n",
    "\n",
    "# {'input_ids': [[0, 1656, 1141, 3135, 6265, 2, 864, 1141, 3135, 6265, 2]],\n",
    "# 'token_type_ids': [[0, 0, 0, 0, 0, 0, 0, 0, 0, 0, 0]],\n",
    "# 'attention_mask': [[1, 1, 1, 1, 1, 1, 1, 1, 1, 1, 1]]}"
   ]
  },
  {
   "cell_type": "markdown",
   "metadata": {
    "id": "3oaV-a3lvcQK"
   },
   "source": [
    "### 실습9. 토큰 아이디를 문자열로 복원"
   ]
  },
  {
   "cell_type": "code",
   "execution_count": null,
   "metadata": {
    "colab": {
     "base_uri": "https://localhost:8080/"
    },
    "executionInfo": {
     "elapsed": 27,
     "status": "ok",
     "timestamp": 1759401048329,
     "user": {
      "displayName": "박현빈",
      "userId": "10918390056247911025"
     },
     "user_tz": -540
    },
    "id": "GxIG352EvdDi",
    "outputId": "b23aa80e-1cf2-4380-ef9c-d75667a824dd"
   },
   "outputs": [],
   "source": [
    "first_tokenized_result = tokenizer(['첫 번째 문장', '두 번째 문장'])['input_ids']\n",
    "print(first_tokenized_result)\n",
    "# ['[CLS] 첫 번째 문장 [SEP]', '[CLS] 두 번째 문장 [SEP]']\n",
    "\n",
    "second_tokenized_result = tokenizer([['첫 번째 문장', '두 번째 문장']])['input_ids']\n",
    "print(second_tokenized_result)\n",
    "# ['[CLS] 첫 번째 문장 [SEP] 두 번째 문장 [SEP]']"
   ]
  },
  {
   "cell_type": "markdown",
   "metadata": {
    "id": "e22TcuvUvk3E"
   },
   "source": [
    "\n",
    "\n",
    "### 실습10. BERT 토크나이저와 RoBERTa 토크나이저"
   ]
  },
  {
   "cell_type": "code",
   "execution_count": null,
   "metadata": {
    "colab": {
     "base_uri": "https://localhost:8080/",
     "height": 416,
     "referenced_widgets": [
      "1561d445902d48fea89c04401d6f4eb7",
      "685ec70855be48c4b5c47aa4a82415f7",
      "648c52b204ff466f9a910d6dd44675f2",
      "7e62b3933e3744eda1ca320ffa89f7cd",
      "4c9c623f5f0346c08eb31097ad3be234",
      "2886216158f64c729bcae59bf8620b36",
      "a67d9b3849834959a66ccbcda9c40261",
      "1d639cffcf994ebfacd343c6447e6d81",
      "8c33f743685b453c8722e5fbd66bbf1e",
      "902124de920a40f5906ca1d3125f1d05",
      "8748be774fc24ab28a79d387a8e7fb8c",
      "439ac36b280346459678711e8093ace9",
      "1e5fa3118b7d47b79b8f9d32b883e20f",
      "2aa11ee05c344195ae37090e93350439",
      "de24a65e5e2145cb8c778979dbbadc66",
      "773bbbe2ec54472e9f54f51ca8f71b82",
      "e80f8940fb354e90878a0760896b6752",
      "789251857a9949c194411eca3b59bda8",
      "1164db84f77546aa8359c118e067288d",
      "64bd4a95adb84c07996fdeed0bbc8465",
      "303fd22cb0e24fb8ba2ba580b4086046",
      "2589bcec5b804dd9b073b73c72d4c6b6",
      "38b6d4f401c046dabd99365abc1cb94a",
      "d5066444393240098c3120a360c9b26e",
      "2e28cebaf96b4aa286f46858a6ca95be",
      "53d74c457f354dea8650242d114a0313",
      "c7451791859e42e09c72de39915d559f",
      "78c47d13f46e4b8d839d6ff1c2d8ef76",
      "0af87ca212e84ecdb061bbc5f3695f0f",
      "ec555e4a72454633a6740290fb73580a",
      "30cc71544c544eb49cf098c4727a1430",
      "ccb6f668028e42819e6ea569260d19fa",
      "6e7b0ee45d784b1ebfd3b11ad12e102d",
      "910efb5701934710a3a1d521c4f243d2",
      "f22db431204d4f1c81c6783d73e0796b",
      "d8bebc40b5034cf289aa69c52ee5923d",
      "7bcd4ddd07c844b1b682f56ed6342b2a",
      "7080502b56a94ca4a69753967e826456",
      "30feb174223b48f78e9ab9b22a4bc5dd",
      "800e76a664334242b76ec217491ab382",
      "58c37aa281524d5d9fc332d7c4f59753",
      "c437159b17fd4a448da0db7956fb18f1",
      "3cc92424489a46f592682ed3b04224d8",
      "e3e68e6ca02b48b3b8458c7e817e6be8",
      "0564d9456a0849a08623bf5d3b91df0d",
      "010a97c4dab2414989a76fb39a01efc1",
      "dde9c0c99b794b1485d732e5e482d9dc",
      "4618514bc7f1473eac27b9093246255b",
      "87b376d41e314fa6b1739ac1d1d6f10b",
      "b6d855ceb18642d4a603092070b1fd9f",
      "509c511bb9c8444db57e8cc4fbb4aeb3",
      "6764ba5a7fc54472bc824331e6256f32",
      "de4878b559e3491cbf7dc6c5819d39c7",
      "e48d9a29cd434dec9d749903d32b65e5",
      "c384c201e5b34b9fa4088c15bf668ca4",
      "c1d04e18a5c7439e8f8d72c1482d83dc",
      "a9b47ddfca1a49fa945f9d3e2ba8f79c",
      "7f07635184b244baad4388e1cbd6aa69",
      "bf14700a4aec462991ad3736293d557b",
      "bec1a6b286034a5c848adb06b84065b9",
      "a6547045c2094e349fe3aebceb106867",
      "d6c38189718849f8a4ce5bc91b9f1e75",
      "47524a540231421ca40499a3d49697e2",
      "fc6cabc5c374450391086d489bc19df4",
      "d765944792f146e4bdd6748eedb7a58a",
      "0a7a13a8122c402fa9522afa58f76271",
      "029b798167724725be7c129627975d49",
      "4c04e323b0ff449ebcb0a9ef07c920c8",
      "9128fe528d724166ac72b9ccd47b1672",
      "c16d7999113648749da7cc66e29b803b",
      "2aeaa817ee8743c3b2930a8d1f5e5d9b",
      "11f75dfe473e4e3aba6a6b944fc1b671",
      "1cdaab94076840bcbbc423e4d7e3ed85",
      "5e1dbbae4dde413b83fdf7d5a0f8e2c4",
      "2b9f40c6210a46d0b7321e8513a14635",
      "d84ec542f0de4b3bb9749aa9445a01a2",
      "f68f76399c6646959a531cccd14b28ba",
      "c095bb8847d74dd0828ca38e93160621",
      "dc5b2fb91d954265927c97296be85bc7",
      "9dc03ea6f26343abbdff9440f7bc7441",
      "90df2815c5624770ba84d71db031ee80",
      "6ef8a6ad6798463fa9f20aea45424aed",
      "2834eccf4bfd4318ac6622ee45cc8f9a",
      "c46fedd8eb084f8789a916c398530509",
      "69a12a03bbf642dcb420504758a4d5c3",
      "5003c4325e324669bb5088b678eabd9d",
      "9092b283eee94bc58209b9f629b65e3f",
      "2dbbfd818cdf42758cca1fdf22142e5e",
      "d5f8be955d3e42c391697c4af5cf32e8",
      "8bc5f18dfd7e4f4e9649369d389fe270",
      "478a05c2418f45c8bc11fcddda00f9ed",
      "226d2bb9891d444f9c5d52d2a534f20f",
      "763ef791c8f74a0ea73b037e6becedd5",
      "23116583725540efb697946ababeb30a",
      "0306cc3330a8425b8ed3d9fa53dad760",
      "ecc4241521e74f2a9f34970f439d84a1",
      "e26a78df272b4ad4b761b1c894ce047f",
      "3a68194b7b8c4e96a277c97f20b96651",
      "6a7a26a9e6c04a50b1bdc072a8a267d6",
      "5746fc5afe4d4fe2967cd338c1195723",
      "dc845262ea974b9aa61d44bafad9deda",
      "661530f7d0ac44f6b949343fd96ed091",
      "45d13620c7e04d699825c6d8df1b2497",
      "4dca7bfe2b2d4aaba03f158326e890f6",
      "8f4ea8c388234449bcd65e62839050cf",
      "62013c9bb35e45f2b999fcbc9c697c58",
      "34c38922217d463cb6a35a5dadd6acc9",
      "54955f49cb1040efb4a2caa55880a0b4",
      "2fa9f4ecb77849ea95d285f712607fff",
      "ee480dde8aee45aeb1096245da14e654"
     ]
    },
    "executionInfo": {
     "elapsed": 5008,
     "status": "ok",
     "timestamp": 1759401039514,
     "user": {
      "displayName": "박현빈",
      "userId": "10918390056247911025"
     },
     "user_tz": -540
    },
    "id": "0vDO4KJ_vlUv",
    "outputId": "48cae78b-7809-4ba5-92c3-cc8384f4db15"
   },
   "outputs": [],
   "source": [
    "bert_tokenizer = AutoTokenizer.from_pretrained('klue/bert-base')\n",
    "print(bert_tokenizer([['첫 번째 문장', '두 번째 문장']]))\n",
    "\n",
    "roberta_tokenizer = AutoTokenizer.from_pretrained('klue/roberta-base')\n",
    "print(roberta_tokenizer([['첫 번째 문장', '두 번째 문장']]))\n",
    "\n",
    "en_roberta_tokenizer = AutoTokenizer.from_pretrained('roberta-base')\n",
    "print(en_roberta_tokenizer([['first sentence', 'second sentence']]))\n",
    "\n",
    "\n",
    "#모델에 따라 토큰화 결과가 다르다."
   ]
  },
  {
   "cell_type": "markdown",
   "metadata": {
    "id": "F8TSCJ_rvux1"
   },
   "source": [
    "### 실습11. attention_mask 확인"
   ]
  },
  {
   "cell_type": "code",
   "execution_count": null,
   "metadata": {
    "colab": {
     "base_uri": "https://localhost:8080/"
    },
    "executionInfo": {
     "elapsed": 40,
     "status": "ok",
     "timestamp": 1759401039565,
     "user": {
      "displayName": "박현빈",
      "userId": "10918390056247911025"
     },
     "user_tz": -540
    },
    "id": "Lj8XkTM9vvwu",
    "outputId": "5d1409c6-5ff4-4fce-c487-13aa1b7ad3f2"
   },
   "outputs": [],
   "source": [
    "tokenizer(['첫 번째 문장은 짧다.', '두 번째 문장은 첫 번째 문장 보다 더 길다.'], padding='longest')"
   ]
  },
  {
   "cell_type": "markdown",
   "metadata": {
    "id": "e9hRNhL6v8J3"
   },
   "source": [
    "# 3. 데이터셋 활용하기"
   ]
  },
  {
   "cell_type": "markdown",
   "metadata": {
    "id": "jciuyy3G3Pv5"
   },
   "source": [
    "## 3.1 데이터셋 다운로드"
   ]
  },
  {
   "cell_type": "markdown",
   "metadata": {
    "id": "YsihUpKB3hKx"
   },
   "source": [
    "### 실습12. 허깅페이스 허브에서 데이터셋 다운로드"
   ]
  },
  {
   "cell_type": "code",
   "execution_count": null,
   "metadata": {
    "colab": {
     "base_uri": "https://localhost:8080/"
    },
    "executionInfo": {
     "elapsed": 9291,
     "status": "ok",
     "timestamp": 1759401082099,
     "user": {
      "displayName": "박현빈",
      "userId": "10918390056247911025"
     },
     "user_tz": -540
    },
    "id": "PkvpGH-SedWO",
    "outputId": "0c50b04d-4748-4d7b-f376-34355f7bf7f0"
   },
   "outputs": [],
   "source": [
    "!pip install datasets"
   ]
  },
  {
   "cell_type": "code",
   "execution_count": null,
   "metadata": {
    "colab": {
     "base_uri": "https://localhost:8080/",
     "height": 233,
     "referenced_widgets": [
      "d9f1af5e1830451e89bf078f9a783e27",
      "35e291779f1b4d50a16dc82e542d0b18",
      "fdf7c62cc4ec41e0bee69767efab94c7",
      "9d35fff8fc234fc281b1213eb0a8e652",
      "7c7d1f2794e44f96859dc60eb0127dbc",
      "c8b4b0be03e74d04a164c3b1bbdeedbf",
      "4db593ec15a9449db7a2adc583ce73d7",
      "07e600f369084a088d212d8b6d21cd4b",
      "f6fbf457ab0e4a2ca9f48a552cb83aee",
      "308912a1b32442a1bda84ec47e5513d1",
      "375fc7a4599142b2ac93e3e247eeec36",
      "7aa56579e2f64657817395c2e69f089e",
      "29380f803ecd4a14a86402c262456a89",
      "a79821e52042400fbded53b1324b4a2d",
      "f5a5006dc322495689196be4ef9e875d",
      "82547aeeeb524180a0addaa9ea22f7a0",
      "7ed22434cc5e432e84ccad602c95851d",
      "238a49af39ce42bbac23a3dec76d5eff",
      "a7ad09a386654776861e09dfebd13314",
      "fbea5bf4dac74624b23ca4bc7af6a91e",
      "4e6dedf96f1d467e8d147499ebc97032",
      "1b4efe7ee1ab47bcab1912a20bc56d8e",
      "8ed818287c9844b3a6df8ff3450531a1",
      "27fcd7c3cf394f5aaad310f91fbe8a77",
      "b734baae18fe427395be84d7b37b808c",
      "962b087fd2064976917d736dfc0eaf24",
      "b16b583bac5e412299dbd82aebae6379",
      "a82c115e5baf45108f9eeddea3672e0e",
      "04b8b68c03cc400cbdc6d509bd9e0875",
      "7499e450af2b403e9d32b58933cd1ac7",
      "cfe3c4d79658412789eaed444d2cb253",
      "eea0d6d6e7ca41b6ab52854d475abaf5",
      "3fe3218e2b7943478711a47284345aeb",
      "494308749abf4117a0218a6ef7f1d2df",
      "abdf22975e264d93ad8db77cc2cf58d6",
      "b04ec1652dc141ad8a0dd94e2251bdf1",
      "d13ec7238e364c7fa50a2c3930dcbc98",
      "5997187b8ce04cedba1de5d2a26518c9",
      "f73e63b7399e49b2b935a3ccd46ce46b",
      "c2ce680c12c44e188c80d04836a49f48",
      "fd82ef48f63f4911a5f174d0ed634219",
      "b93878cd10f84b338a96525ab0fd4edb",
      "58309575956d42edb0628b5e18e88a93",
      "0f73fde44c0c4b7d951dd62fb8f7c312",
      "bcbe5a09df3e401cb72d56f9edd20ba4",
      "78911ff92b1a4d36bba62298395e1944",
      "6fe6f6ab418c41598a1c329c395830af",
      "b68a450ab2714409bb5895ad1b9d9da9",
      "6006730dc64046a9b47e7313d147dce4",
      "b4c805a9f4174760a747f61c6316f325",
      "83d779677fa14f42a36bc236ac75a14a",
      "1283dd4d697047b886944343038a1971",
      "cbf63406e5e34821a262ed5703d509b4",
      "d244a60e8b7c4e408ba0985e147420cd",
      "19c8ae695f9a4062a8ebceec4ab4d4f7"
     ]
    },
    "executionInfo": {
     "elapsed": 8599,
     "status": "ok",
     "timestamp": 1759401700760,
     "user": {
      "displayName": "박현빈",
      "userId": "10918390056247911025"
     },
     "user_tz": -540
    },
    "id": "h6rED4n6v-dg",
    "outputId": "5fc3e26e-48af-4659-c60b-427fc07bb979"
   },
   "outputs": [],
   "source": [
    "from datasets import load_dataset\n",
    "#MRC(Machine Reading Comprehension) 데이터셋: 기계의 독해 능력 평가하는 데이터셋\n",
    "klue_mrc_dataset = load_dataset('klue', 'mrc')\n",
    "klue_mrc_dataset_only_train = load_dataset('klue', 'mrc', split='train')"
   ]
  },
  {
   "cell_type": "code",
   "execution_count": null,
   "metadata": {
    "colab": {
     "base_uri": "https://localhost:8080/"
    },
    "executionInfo": {
     "elapsed": 109,
     "status": "ok",
     "timestamp": 1759401700874,
     "user": {
      "displayName": "박현빈",
      "userId": "10918390056247911025"
     },
     "user_tz": -540
    },
    "id": "oYQcIJmIOcyH",
    "outputId": "748f99b2-e47c-42ec-989a-8f18f092421e"
   },
   "outputs": [],
   "source": [
    "klue_mrc_dataset"
   ]
  },
  {
   "cell_type": "code",
   "execution_count": null,
   "metadata": {
    "colab": {
     "base_uri": "https://localhost:8080/"
    },
    "executionInfo": {
     "elapsed": 48,
     "status": "ok",
     "timestamp": 1759401701010,
     "user": {
      "displayName": "박현빈",
      "userId": "10918390056247911025"
     },
     "user_tz": -540
    },
    "id": "vfVetDobOoiQ",
    "outputId": "fd4634c3-50ac-4453-cde6-ecaff4678366"
   },
   "outputs": [],
   "source": [
    "klue_mrc_dataset_only_train"
   ]
  },
  {
   "cell_type": "code",
   "execution_count": null,
   "metadata": {
    "colab": {
     "base_uri": "https://localhost:8080/"
    },
    "executionInfo": {
     "elapsed": 53,
     "status": "ok",
     "timestamp": 1759401707461,
     "user": {
      "displayName": "박현빈",
      "userId": "10918390056247911025"
     },
     "user_tz": -540
    },
    "id": "k4dqLQJIOzQO",
    "outputId": "03f5c622-a09e-4df6-d4bf-7f0b3c53b0d9"
   },
   "outputs": [],
   "source": [
    "klue_mrc_dataset['train'][0]"
   ]
  },
  {
   "cell_type": "markdown",
   "metadata": {
    "id": "28cdd3vPwF-x"
   },
   "source": [
    "### 실습13. 로컬의 데이터 활용하기\n",
    "(안내) 아래 코드를 실행하기 위해서는 구글 코랩에 csv 파일이 업로드 되어야 합니다. 허깅페이스 datasets 형식으로 쉽게 변환할 수 있다는 점을 보여주기 위한 예시 코드입니다."
   ]
  },
  {
   "cell_type": "code",
   "execution_count": null,
   "metadata": {
    "colab": {
     "base_uri": "https://localhost:8080/"
    },
    "executionInfo": {
     "elapsed": 25843,
     "status": "ok",
     "timestamp": 1759401111242,
     "user": {
      "displayName": "박현빈",
      "userId": "10918390056247911025"
     },
     "user_tz": -540
    },
    "id": "VByKyjBcMjfs",
    "outputId": "0c3d2d91-3b37-4e1d-80bd-310545600579"
   },
   "outputs": [],
   "source": [
    "from google.colab import drive\n",
    "drive.mount('/content/drive')"
   ]
  },
  {
   "cell_type": "code",
   "execution_count": null,
   "metadata": {
    "colab": {
     "base_uri": "https://localhost:8080/",
     "height": 49,
     "referenced_widgets": [
      "72f8a47bb94c4701bcc11a8da69d1d7d",
      "08caa34bc2ef4335a2aecf654e324b87",
      "89082cba165844e1bc9a50e0fe90098d",
      "0f2bb8040d3549c3a8371d5e30eaf0b3",
      "1454777435f245649edb22a473a068a3",
      "5fdbf6a3c25b49b6a4e1bff527b05a66",
      "939563c885fd43aabcb408cc659f3f16",
      "331e0f59268247d9a96ff5d57e02bd63",
      "a47e353208974555a989029df8a9b2cb",
      "4cd2cf884d5942d29967ab54bac54c7c",
      "efa89505175b42c7949cf941d7c39c16"
     ]
    },
    "executionInfo": {
     "elapsed": 1755,
     "status": "ok",
     "timestamp": 1759401755928,
     "user": {
      "displayName": "박현빈",
      "userId": "10918390056247911025"
     },
     "user_tz": -540
    },
    "id": "c7FfgbFUDBQg",
    "outputId": "a6d22ba7-07d7-4eb9-a30c-1307b47069e5"
   },
   "outputs": [],
   "source": [
    "# 로컬의 데이터 파일을 활용\n",
    "dataset_json = load_dataset(\"json\", data_files=\"/content/drive/MyDrive/git/3-huggingface/review_신라스테이 해운대.json\")\n",
    "#print(dataset_json)\n",
    "\n",
    "#로컬 데이터로는 train 100%이 default.\n",
    "dataset_json_train = load_dataset(\"json\", data_files=\"/content/drive/MyDrive/git/3-huggingface/review_신라스테이 해운대.json\", split='train')\n",
    "#print(dataset_json_train)\n",
    "\n",
    "#수동으로 split 하는 방법\n",
    "dataset_json_test = dataset_json[\"train\"].train_test_split(test_size=0.2, seed=42)[\"test\"]\n",
    "#print(dataset_json_test)"
   ]
  },
  {
   "cell_type": "code",
   "execution_count": null,
   "metadata": {
    "colab": {
     "base_uri": "https://localhost:8080/"
    },
    "executionInfo": {
     "elapsed": 12,
     "status": "ok",
     "timestamp": 1759401762230,
     "user": {
      "displayName": "박현빈",
      "userId": "10918390056247911025"
     },
     "user_tz": -540
    },
    "id": "gAk3WHRuRiGw",
    "outputId": "be4110c3-eb32-43a2-fe05-32732aaf8fd2"
   },
   "outputs": [],
   "source": [
    "print(dataset_json['train'][0])\n",
    "print(dataset_json_test[0])"
   ]
  },
  {
   "cell_type": "markdown",
   "metadata": {
    "id": "OE1cIGmdwT8n"
   },
   "source": [
    "\n",
    "### 실습14. 데이터셋 제작"
   ]
  },
  {
   "cell_type": "code",
   "execution_count": null,
   "metadata": {
    "colab": {
     "base_uri": "https://localhost:8080/"
    },
    "executionInfo": {
     "elapsed": 61,
     "status": "ok",
     "timestamp": 1759401760598,
     "user": {
      "displayName": "박현빈",
      "userId": "10918390056247911025"
     },
     "user_tz": -540
    },
    "id": "uJ5E8b1lP7yN",
    "outputId": "f8f4ac5c-adf5-4045-d903-ff78bea17aa4"
   },
   "outputs": [],
   "source": [
    "# 파이썬 딕셔너리 활용\n",
    "from datasets import Dataset\n",
    "my_dict = {\"a\": [1, 2, 3]}\n",
    "dataset = Dataset.from_dict(my_dict)\n",
    "print(dataset[0])\n",
    "\n",
    "# 판다스 데이터프레임 활용\n",
    "from datasets import Dataset\n",
    "import pandas as pd\n",
    "df = pd.DataFrame({\"a\": [1, 2, 3]})\n",
    "dataset = Dataset.from_pandas(df)\n",
    "print(dataset[0])"
   ]
  },
  {
   "cell_type": "markdown",
   "metadata": {
    "id": "kbdIGz7YDQ8q"
   },
   "source": [
    "## 3.2. 데이터셋 가공하기"
   ]
  },
  {
   "cell_type": "markdown",
   "metadata": {
    "id": "Qnb6SqInweAW"
   },
   "source": [
    "### 실습15. 실습에 사용하지 않는 불필요한 컬럼 제거"
   ]
  },
  {
   "cell_type": "code",
   "execution_count": null,
   "metadata": {
    "colab": {
     "base_uri": "https://localhost:8080/",
     "height": 360,
     "referenced_widgets": [
      "3bb2952f1f2244f09fd95decc6b6ca21",
      "4dbed9cd8f954c8eb16a57a4c030a2b1",
      "40d5783220e14911a0e874a475df8ec5",
      "4faceae3b0c144cda3e9e4c459f9e2a8",
      "e55d3c9191d347c583b87a6a5eb1ee42",
      "02476175d46a4af0beb1c90b920ecc50",
      "89d3026b351e4af7a7392f4004dd77e1",
      "8838bf9e9e8044908a2c98317d2c9398",
      "58212ce4b0dc44699daa835ce832081e",
      "4340f9bb50d94925b928fbe391561552",
      "bcd528dddf8e4c03b5b5bf3e3cf2bafe",
      "9bde874d34ec47d3b418a270d8c6f99b",
      "e4aa4535da4140adbcb63f603414b205",
      "8d59b721dbda4270b4cca487e8af0f8e",
      "50e2372ec6f34387b2da505afd3c275b",
      "44bfce03871c4216969e0d15a2a4e893",
      "d995c42a2bf447178b1a7aadf3e6cb4d",
      "a711fe7e08bc4c11a20994af919afab4",
      "4d7aa6eeb28045a0967b2ade3f60aba3",
      "9ae581d153e24f5abec713fd5d255f47",
      "cb6d507467564997ad3a4ec88bf612d0",
      "5704e5006ef84c868b8dcaf1f474cf89",
      "4658b261dcc54af58af194ab4f4a9584",
      "ee69b018e65b4efcbfe07fec9e9e15cc",
      "5b20af410d774f2788ad06f2a4d2cf07",
      "bbcfff2fc8d74fedacef8fac839e5062",
      "928d15808821425c9ef256f4028f24a7",
      "b15c7c89a27e4fce9af250cf868bde0b",
      "0e0681fbf6d74fc6ad51e15b7bb57524",
      "c1a03510268e4224a8e0c71135c0760f",
      "fb8206819afe4d54a282277019cc3466",
      "c917af127d34460bbabcbca513a039ca",
      "d1a4291353824d3983c9a0ca6be72584",
      "2101aa4a04cf488795b70109ed714e76",
      "f334a27c16d240a9bc23aaf4e0098b4a",
      "6da7526d609f4f0babed22065f70163a",
      "db70aa3ea7f141c6bab1159e5d625179",
      "6d2d935a94914ae08b0343eb29a1df86",
      "57e95f977fc44b5fa0abc109b073d384",
      "c1d3b33d26a540b4afdbc6a067bd1a94",
      "4e627588d5294672a9d57fc97651105c",
      "c3bc958687b741a4993ff03cd2c92683",
      "118984886d0141739eeccaa88cf7199b",
      "0fc5739302ff4ec3ac7ac68853ca6967"
     ]
    },
    "executionInfo": {
     "elapsed": 4529,
     "status": "ok",
     "timestamp": 1759401774776,
     "user": {
      "displayName": "박현빈",
      "userId": "10918390056247911025"
     },
     "user_tz": -540
    },
    "id": "uHjb8Rd6DSDh",
    "outputId": "dbfbe98a-462a-40cd-cd42-32ce6ae5b166"
   },
   "outputs": [],
   "source": [
    "from datasets import load_dataset\n",
    "klue_tc_train = load_dataset(\"klue\", \"ynat\", split = \"train\")\n",
    "klue_tc_eval = load_dataset(\"klue\", \"ynat\", split = \"validation\")\n",
    "print(klue_tc_train)\n",
    "print(klue_tc_eval)"
   ]
  },
  {
   "cell_type": "code",
   "execution_count": null,
   "metadata": {
    "colab": {
     "base_uri": "https://localhost:8080/"
    },
    "executionInfo": {
     "elapsed": 26,
     "status": "ok",
     "timestamp": 1759401806686,
     "user": {
      "displayName": "박현빈",
      "userId": "10918390056247911025"
     },
     "user_tz": -540
    },
    "id": "wr6cX9laDX9Z",
    "outputId": "876ad070-4c78-4519-ad19-7627acc46662"
   },
   "outputs": [],
   "source": [
    "klue_tc_train_removed = klue_tc_train.remove_columns(['guid', 'url', 'date'])\n",
    "klue_tc_eval_removed = klue_tc_eval.remove_columns(['guid', 'url', 'date'])\n",
    "print(klue_tc_train_removed)\n",
    "print(klue_tc_train_removed[0])\n"
   ]
  },
  {
   "cell_type": "markdown",
   "metadata": {
    "id": "MAjvDdjqwoXY"
   },
   "source": [
    "### 실습16. 카테고리를 문자로 표기한 label_str 컬럼 추가"
   ]
  },
  {
   "cell_type": "code",
   "execution_count": null,
   "metadata": {
    "colab": {
     "base_uri": "https://localhost:8080/"
    },
    "executionInfo": {
     "elapsed": 19,
     "status": "ok",
     "timestamp": 1759401809079,
     "user": {
      "displayName": "박현빈",
      "userId": "10918390056247911025"
     },
     "user_tz": -540
    },
    "id": "z90M9sisDUmr",
    "outputId": "67ffceeb-7150-46e9-bfb1-4bddbf7e29fe"
   },
   "outputs": [],
   "source": [
    "print(klue_tc_train_removed.features['title'])\n",
    "print(klue_tc_train_removed.features['label'])"
   ]
  },
  {
   "cell_type": "code",
   "execution_count": null,
   "metadata": {
    "colab": {
     "base_uri": "https://localhost:8080/",
     "height": 49,
     "referenced_widgets": [
      "a2a615db04c44adea78c4762ef1e41b7",
      "1642f8aaa9904adfaf0c82f011cf95d7",
      "9d455fe91fc547338586693a136d4318",
      "394c35370b4f4becbd9f7981da2b4d1f",
      "2ec5729ea07444f89525d874dd134f19",
      "db18b3cd324240fabe8de9867a65932e",
      "4f1fe06a69964c66b294ed4c8a2dd33d",
      "3d28f3cddb8e446db404d7724effbbb6",
      "007f3d66019a4b23a69da57fc963ae71",
      "d9341af707524a788308bd5d4a1767c8",
      "878dcd37e942428aa5df5ae7581f94cc"
     ]
    },
    "executionInfo": {
     "elapsed": 180,
     "status": "ok",
     "timestamp": 1759401821152,
     "user": {
      "displayName": "박현빈",
      "userId": "10918390056247911025"
     },
     "user_tz": -540
    },
    "id": "W2YoqY7jDZVN",
    "outputId": "9a5ce765-a76d-4f03-ca97-e8f6c01bd68b"
   },
   "outputs": [],
   "source": [
    "klue_tc_label = klue_tc_train_removed.features['label']\n",
    "\n",
    "def make_str_label(batch):\n",
    "  batch['label_str'] = klue_tc_label.int2str(batch['label'])\n",
    "  return batch\n",
    "#batch: 한번에 처리할 데이터 묶음. For 문 사용하면서 생기는 overhead줄여줌.\n",
    "klue_tc_train_removed = klue_tc_train_removed.map(make_str_label, batched=True, batch_size=1000)"
   ]
  },
  {
   "cell_type": "markdown",
   "metadata": {
    "id": "nzAkPNnmwumM"
   },
   "source": [
    "### 실습17. 학습/검증/테스트 데이터셋 분할"
   ]
  },
  {
   "cell_type": "code",
   "execution_count": null,
   "metadata": {
    "executionInfo": {
     "elapsed": 52,
     "status": "ok",
     "timestamp": 1759401822869,
     "user": {
      "displayName": "박현빈",
      "userId": "10918390056247911025"
     },
     "user_tz": -540
    },
    "id": "xNbew6U5Da9r"
   },
   "outputs": [],
   "source": [
    "train_dataset = klue_tc_train_removed.train_test_split(test_size=10000, shuffle=True, seed=42)['test']\n",
    "dataset = klue_tc_eval_removed.train_test_split(test_size=1000, shuffle=True, seed=42)\n",
    "test_dataset = dataset['test']\n",
    "valid_dataset = dataset['train'].train_test_split(test_size=1000, shuffle=True, seed=42)['test']"
   ]
  },
  {
   "cell_type": "markdown",
   "metadata": {
    "id": "WheFaA_obmWG"
   },
   "source": [
    "# 4. 모델을 이용하여 추론하기"
   ]
  },
  {
   "cell_type": "markdown",
   "metadata": {
    "id": "hrzXul13ygjb"
   },
   "source": [
    "### 실습18. 학습한 모델을 불러와 pipeline을 활용해 텍스트 분류하기"
   ]
  },
  {
   "cell_type": "code",
   "execution_count": null,
   "metadata": {
    "colab": {
     "base_uri": "https://localhost:8080/",
     "height": 328,
     "referenced_widgets": [
      "ec9d36d4247b4a92ad6f32a091602a8b",
      "12fef2e6e1b8425bba7ade61a0b2afad",
      "394dadccf1a345d8b9a92f38f7d1be5e",
      "88b0ea3d52ba4937bee4fbe3e1ecab78",
      "6342656d97174c98b507449729bbd729",
      "347dec0d11374070889dfe292f710f1d",
      "aeb4574f679e482998d58f2ec6c35573",
      "f91eb920859a44c6bd2a34784e85f42f",
      "202118fcb68e46bb8525ad4b0c52355f",
      "cb00cca7a9874fac921067fdc55a718b",
      "07cc504676d54d4da67048972cfc805d",
      "127001758608439282ae3ed5c2e7ece2",
      "a6fed2871de14160934775789a0fa0b4",
      "61442a8ff5b44f578c059d41053ecd5c",
      "e3b77fcbcc18477cbf33b38890eff75d",
      "95e200612c304995b7ffc706b0bc1493",
      "c0e930fb726c480e95fb1fa6e32132c4",
      "26761813b3844258a12eb395d34a5ec9",
      "2d182728bbaf4436918e3ae0708acb18",
      "ace76a8649cd44c58d0d2bbb53e243bc",
      "a70cf6f7d21c4093a728997550e66a70",
      "f391d1ea7caa4dcfa3f47f4ca859a2a2",
      "26de2a6038c94ea087f3fadb4810bf9c",
      "4fa4420065aa4049baaee4c643074c1a",
      "77ec4aefff1a4722a0602d60acf86747",
      "f204437c807d497ab41d779c9c794b16",
      "7dbdadeac40f4dd2b31574c70c68a85b",
      "8f639613dc354ea5965b6c423b988032",
      "96ebd60301de42949d7d0a86b3f7aeba",
      "036591d20f0c4175928be629474cfeab",
      "3b94e63357934e6abaf060e0794efd9d",
      "0630d71670cf4d34975cc040c707e056",
      "4be156c8976240f6ad10114a8926c1e8",
      "a2fe05114ff64db0a214182e8876695e",
      "2034f293ac18404e8fa2867b7adf27b7",
      "dcf410b9d3e44076ad722939c223a8d3",
      "0ad161e8ae584b8b8bfbdf9d2a86aa66",
      "622b977591bc41d0b49cba88d08681d8",
      "da3fb8cd9a1844c4881255dcb3f81cd3",
      "fe0d43f546fa4ed2b9d88c17f6ee8621",
      "05ffbf4660e04c6587b49e634869b8ed",
      "1c8b46b2931b439fa4a43e130c8c801f",
      "ff46f56aa801473c9118f5c357523db2",
      "057114881db44cb1914da8a12b468b66",
      "b2c9c2767b014f51b4ff28ec7626e385",
      "229db2c066254d0398260dd4b3c94cd5",
      "d8e603b826f74adf8d24353dca9a28a8",
      "135bc862dd784eaf85f59fe1250725df",
      "3a1a1fed2c584264875db28033629585",
      "7349773550ab4cdd96c336edcc0203c1",
      "00e4bd9e0e0b4840a10e19bfc61d4379",
      "87333144e66c46849839fced4217a050",
      "88fe316de61e4d74bb799e4c5a579857",
      "562e16a62936414699281a382ae9f25b",
      "181d1921fa8c49fcbafa40997f1edb95",
      "a740ea11638e43e9a6028af36ccc05c4",
      "20de758ab2864aa19ed9da9b735b466d",
      "8a707c94ea6d4b9982e928a38d9f93ce",
      "ef6ee77596b046acb0b1f7fd2d37c2d6",
      "ef8f896f21af47dd8f1718a522779e77",
      "e37f01c629284708b1e918e71e00ebbf",
      "e0fca70a8526419bb2f0712e74db2c9c",
      "26283632a62e4c679076f872b50d91f9",
      "94ce13bdbcba43af91c11ca8d10024aa",
      "ea4deb4735da420fb4838edeef2f5d19",
      "e9fa117a1c874673ac34255eaf2f46f4"
     ]
    },
    "executionInfo": {
     "elapsed": 14686,
     "status": "ok",
     "timestamp": 1759401849632,
     "user": {
      "displayName": "박현빈",
      "userId": "10918390056247911025"
     },
     "user_tz": -540
    },
    "id": "hQojQCo9boGv",
    "outputId": "f05696be-fd2f-4098-f380-e2fd1ed4d956"
   },
   "outputs": [],
   "source": [
    "from transformers import pipeline\n",
    "\n",
    "model_id = \"hykiim/roberta-base-klue-ynat-classification\"\n",
    "\n",
    "model_pipeline = pipeline(\"text-classification\", model=model_id)\n",
    "\n",
    "model_pipeline(test_dataset[\"title\"][:5])"
   ]
  },
  {
   "cell_type": "markdown",
   "metadata": {
    "id": "BJoFN-mEysQF"
   },
   "source": [
    "### 실습19. 커스텀 파이프라인 구현"
   ]
  },
  {
   "cell_type": "code",
   "execution_count": null,
   "metadata": {
    "colab": {
     "base_uri": "https://localhost:8080/"
    },
    "executionInfo": {
     "elapsed": 1241,
     "status": "ok",
     "timestamp": 1759401887368,
     "user": {
      "displayName": "박현빈",
      "userId": "10918390056247911025"
     },
     "user_tz": -540
    },
    "id": "3k6Q34dJjkC3",
    "outputId": "255811c2-be1e-4bb7-f59a-2a2f5a2954cd"
   },
   "outputs": [],
   "source": [
    "import torch\n",
    "from torch.nn.functional import softmax\n",
    "from transformers import AutoModelForSequenceClassification, AutoTokenizer\n",
    "\n",
    "class CustomPipeline:\n",
    "    def __init__(self, model_id):\n",
    "        self.model = AutoModelForSequenceClassification.from_pretrained(model_id)#목적에 맞는 모델 헤드 불러옴\n",
    "        self.tokenizer = AutoTokenizer.from_pretrained(model_id)#모델과 동일한 토크나이저 불러옴\n",
    "        self.model.eval() #모델 평가 모드(아직은 몰라도 됨.)\n",
    "\n",
    "    def __call__(self, texts):\n",
    "        tokenized = self.tokenizer(texts, return_tensors=\"pt\", padding=True, truncation=True)# 입력 텍스트를 토크나이저를 사용하여 토큰화\n",
    "        # return_tensors=\"pt\": PyTorch 텐서로 반환, padding=True: 패딩 추가, truncation=True: 잘라내기\n",
    "\n",
    "        with torch.no_grad():#기울기 계산 비활성화(옵티마이저 계산 생략)-> 추론 과정에서는 옵티마이징 할 필요 없음.\n",
    "            outputs = self.model(**tokenized)#**연산자는 딕셔너리를 키워드 인자로 unpacking하여 모델에 입력. 즉 토큰 아이디\n",
    "            logits = outputs.logits# 모델 출력에서 logits 값을 추출. (분류되지 않은 예측값)\n",
    "\n",
    "        #추론이 정확할 확률 구하기\n",
    "        probabilities = softmax(logits, dim=-1)\n",
    "        scores, labels = torch.max(probabilities, dim=-1)\n",
    "        labels_str = [self.model.config.id2label[label_idx] for label_idx in labels.tolist()]\n",
    "\n",
    "        return [{\"label\": label, \"score\": score.item()} for label, score in zip(labels_str, scores)]\n",
    "\n",
    "custom_pipeline = CustomPipeline(model_id)\n",
    "print(custom_pipeline(test_dataset['title'][:5]))"
   ]
  },
  {
   "cell_type": "code",
   "execution_count": null,
   "metadata": {
    "colab": {
     "base_uri": "https://localhost:8080/"
    },
    "executionInfo": {
     "elapsed": 5359,
     "status": "ok",
     "timestamp": 1759401905777,
     "user": {
      "displayName": "박현빈",
      "userId": "10918390056247911025"
     },
     "user_tz": -540
    },
    "id": "2z1j014MUX8V",
    "outputId": "270a2021-715a-497d-edd7-50d465557cc6"
   },
   "outputs": [],
   "source": [
    "import torch\n",
    "\n",
    "gpt_model = GPT2LMHeadModel.from_pretrained('gpt2')\n",
    "gpt_tokenizer = AutoTokenizer.from_pretrained('gpt2')\n",
    "encoded_input = gpt_tokenizer(text, return_tensors='pt')\n",
    "gpt_output = gpt_model(**encoded_input)\n",
    "\n",
    "\n",
    "# GPT-2는 기본 pad 토큰이 없으므로, eos 토큰을 pad 토큰으로 설정 (일반적인 관행)\n",
    "if gpt_tokenizer.pad_token is None:\n",
    "    gpt_tokenizer.pad_token = gpt_tokenizer.eos_token\n",
    "\n",
    "# 2. 입력 텍스트 준비\n",
    "text = \"What is Huggingface Transformer?\"\n",
    "encoded_input = gpt_tokenizer(text, return_tensors='pt')\n",
    "input_ids = encoded_input['input_ids']\n",
    "\n",
    "# 3. 텍스트 생성 (model.generate 사용)\n",
    "# max_length: 생성될 텍스트의 최대 길이 (입력 포함)\n",
    "# num_return_sequences: 생성할 시퀀스 수\n",
    "# pad_token_id: 패딩에 사용될 토큰 ID 설정\n",
    "output_sequences = gpt_model.generate(\n",
    "    input_ids=input_ids,\n",
    "    max_length=50,  # 예시: 최대 50 토큰까지 생성\n",
    "    num_return_sequences=1,\n",
    "    pad_token_id=gpt_tokenizer.pad_token_id,\n",
    "    # 더 다양한 결과를 원하면 다음 파라미터 추가 가능:\n",
    "    do_sample=True,      # 샘플링 사용 여부\n",
    "    top_k=50,            # 상위 K개 토큰 중에서만 샘플링\n",
    "    top_p=0.95,          # 누적 확률 P 이상인 토큰 중에서만 샘플링 (nucleus sampling)\n",
    "    temperature=0.7,     # 확률 분포를 조절 (낮을수록 결정적, 높을수록 무작위적)\n",
    ")\n",
    "\n",
    "# 4. 생성된 토큰 ID 시퀀스를 텍스트로 디코딩\n",
    "# output_sequences[0]은 생성된 첫 번째 시퀀스를 의미\n",
    "# skip_special_tokens=True 옵션은 <|endoftext|> 같은 특수 토큰을 결과에서 제외\n",
    "generated_text = gpt_tokenizer.decode(output_sequences[0], skip_special_tokens=True)\n",
    "\n",
    "# 5. 결과 출력\n",
    "print(\"Input Text:\", text)\n",
    "print(\"Generated Text:\", generated_text)"
   ]
  }
 ],
 "metadata": {
  "accelerator": "GPU",
  "colab": {
   "gpuType": "T4",
   "provenance": []
  },
  "kernelspec": {
   "display_name": "hateslop1",
   "language": "python",
   "name": "python3"
  },
  "language_info": {
   "codemirror_mode": {
    "name": "ipython",
    "version": 3
   },
   "file_extension": ".py",
   "mimetype": "text/x-python",
   "name": "python",
   "nbconvert_exporter": "python",
   "pygments_lexer": "ipython3",
   "version": "3.10.16"
  }
 },
 "nbformat": 4,
 "nbformat_minor": 0
}
