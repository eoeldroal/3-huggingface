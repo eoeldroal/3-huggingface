{
 "cells": [
  {
   "cell_type": "code",
   "execution_count": null,
   "metadata": {
    "colab": {
     "base_uri": "https://localhost:8080/"
    },
    "executionInfo": {
     "elapsed": 6,
     "status": "ok",
     "timestamp": 1759403226090,
     "user": {
      "displayName": "박현빈",
      "userId": "10918390056247911025"
     },
     "user_tz": -540
    },
    "id": "A3hT1XeLfGyo",
    "outputId": "5c0d3421-cb41-4b25-ec11-368150cbb2cf"
   },
   "outputs": [],
   "source": [
    "# @title 1. 환경 설정 및 라이브러리 설치 (Cell 1)\n",
    "\"\"\"\n",
    "이 셀에서는 실습에 필요한 라이브러리들을 설치하고 임포트합니다.\n",
    "- transformers: Hugging Face 모델 및 파이프라인 사용을 위한 라이브러리\n",
    "- datasets: KLUE 데이터셋 등 Hugging Face Hub의 데이터셋 로드를 위한 라이브러리\n",
    "- sentencepiece: KoBART 등 일부 모델에서 사용하는 토크나이저 라이브러리\n",
    "- accelerate: 모델 로딩 및 분산 처리를 도와주는 라이브러리 (특히 NLLB 모델에 유용)\n",
    "- torch: PyTorch 라이브러리 (기본 백엔드)\n",
    "\"\"\"\n",
    "# TODO: 필요한 라이브러리를 설치하는 명령어를 작성하세요. (transformers, datasets, sentencepiece, accelerate, torch)\n",
    "# !pip install ...\n",
    "\n",
    "import datasets\n",
    "from datasets import load_dataset, DatasetDict\n",
    "from transformers import pipeline\n",
    "import torch\n",
    "import pandas as pd # 데이터 확인용\n",
    "\n",
    "# GPU 사용 가능 여부 확인 및 설정 (Colab에서는 보통 GPU 사용 가능)\n",
    "device = 0 if torch.cuda.is_available() else -1\n",
    "print(f\"사용 가능한 디바이스: {'GPU' if device == 0 else 'CPU'}\")"
   ]
  },
  {
   "cell_type": "code",
   "execution_count": null,
   "metadata": {
    "colab": {
     "base_uri": "https://localhost:8080/",
     "height": 1000,
     "referenced_widgets": [
      "0d2d7f534aed4ead93431acfac2934f9",
      "bd16b000c62d4b5ebef558acfcb8b170",
      "612ec57b6d224d60b1702ee18191f93f",
      "24e7fb6904454683b3c5aad5d1da67b8",
      "bc1441770af149f09c65e52928cb258f",
      "5502f3f41f1540f09a9f38e6e8dd3179",
      "6d511f6e882e424d814fb8d07cbe14d2",
      "2f1f1033e097423189556fffb946ece4",
      "267573eec79642dc8842f0e48ffa26ac",
      "e5d99019f5b54cfe882e6a4cfad715af",
      "518779d55f2f4a618539b08e76fa5492",
      "f4d73c04e39a4c4fa790975e1f2befe5",
      "338650a70afa4b40a068c12e8e2f2b74",
      "59b0b865e8704f77a15231e5b8bffeee",
      "dddf5d6fb6264874ab1368e3d236fb75",
      "75f4e0e2f34648c7974947ee9a24fac6",
      "7bdbf513b2e64c1a8429ede35e2ba003",
      "65cdd026abc14f478db4ac401bfbf7a3",
      "084023636eb543978c2cf7d3fd3607a7",
      "d7594cf4e6b64887afd0b4077d9df9d0",
      "be1e7bb0255d42f3a21f38f7eeb2f842",
      "34746ae7a80843ce933e38595fc10196",
      "7063539bec1b40f8a033d57936e2415a",
      "5363355cce1a4f99b54c60093a17645f",
      "e300d4fcc3434e0b9b0194cc879f0830",
      "9c0e97ffe123424385536c9b0cad065a",
      "6099b2aa1d8d445186de6dfcd9cc24dc",
      "129f2693a9b14cf7bf0438271d32a115",
      "910c4d46fdf348af82c10ac136cf680f",
      "8b1d11dd77994641be972af44963df7a",
      "15cb69dc1cd84bba9a3c1e7e78fe3e7f",
      "30e9baed062745ff9449d2c0b199f570",
      "29f167040b3f4ab1b30f60dbf8d88ccd",
      "5356134396b34c15962d054f7d648391",
      "e6fb072ee7b742cf8e84c13fae7966d9",
      "edeb940d0cc1460bbddbe5fa9e86fb54",
      "1ebd7c67acda44b1a61e1335b49f5305",
      "195a368660794b3495ce7d27dbe388d3",
      "d4bed28cedb54dc7b47dd024a125c481",
      "d4f0f04b9c4f4785807723bff1d72e92",
      "0159b44055b6449581bbfd4885727278",
      "39e566fe4b9243fd9eb83617dd56d725",
      "9fa1f6d56c6040b2a103d289db96108c",
      "ccf4dc960fc34468a94b94648fa6978b",
      "1db4683a2cfa4bb4bf1534bebffa9193",
      "c64388e7ab794bc2babcb59154fc5bd8",
      "808b917a85a44e55b3052f87349e3b7f",
      "1dca0368e06c4f5885680ec41a02642c",
      "e7950d2ef7474e79b378db64a8ae5bab",
      "bc4b6468a3d24a66ac01bd604859c960",
      "14329bfda0e849a2bf8c6b61ebad4f94",
      "9b3cc9d36ffe421b90a0a1e6df6b85be",
      "1e2e17633c024f46a137a748b7ce1673",
      "a0fca1a5b6d5418694139951098b8368",
      "c4435eaf965f498c867dfd7e501646ed"
     ]
    },
    "executionInfo": {
     "elapsed": 6873,
     "status": "ok",
     "timestamp": 1759403245305,
     "user": {
      "displayName": "박현빈",
      "userId": "10918390056247911025"
     },
     "user_tz": -540
    },
    "id": "EfLCkC9DfMnA",
    "outputId": "1f36b765-ac46-41c1-fd81-9d72c1f99e3c"
   },
   "outputs": [],
   "source": [
    "# @title 2. 데이터셋 로드 및 준비 (Cell 2)\n",
    "\"\"\"\n",
    "이 셀에서는 KLUE 데이터셋의 MRC 부분을 로드합니다.\n",
    "전체 데이터셋은 클 수 있으므로, 실습을 위해 일부 데이터만 선택하여 사용합니다.\n",
    "'context' 컬럼이 우리가 요약할 원본 기사 내용입니다.\n",
    "\"\"\"\n",
    "full_dataset = load_dataset(\"klue\", \"mrc\", split=\"train\")\n",
    "\n",
    "# 실습을 위해 데이터 일부만 선택 (예: 앞 10개)\n",
    "num_samples_to_use = 10\n",
    "klue_mrc_subset = full_dataset.select(range(num_samples_to_use))\n",
    "\n",
    "print(\"로드된 데이터셋 정보:\")\n",
    "print(klue_mrc_subset)\n",
    "\n",
    "print(\"\\n첫 번째 데이터 예시 (context 확인):\")\n",
    "print(klue_mrc_subset[0]['context'])\n",
    "\n",
    "# 데이터셋 확인을 위해 Pandas DataFrame으로 변환 (선택 사항)\n",
    "df_check = pd.DataFrame(klue_mrc_subset)\n",
    "print(\"\\n데이터셋 일부 미리보기 (DataFrame):\")\n",
    "display(df_check.head(3)) # Colab 환경에서는 display()가 표 형태로 보여줍니다."
   ]
  },
  {
   "cell_type": "code",
   "execution_count": null,
   "metadata": {
    "colab": {
     "base_uri": "https://localhost:8080/",
     "height": 360,
     "referenced_widgets": [
      "1236d00211124fad806d17690203e4d7",
      "849f85d81cf2497d9e7913f13be42df5",
      "c09147a8482c42978c2d715825dd11e7",
      "a01f5988ac6c4217a7e3ac7de0065940",
      "8cc8f314bc7449ab88b0bec2ff479464",
      "f1b281dbbf8d46b7ad00f64a2e30353b",
      "cf416de1780a498d83b3deecada226e7",
      "430cff2b78f64c0998e78e9909e50c5f",
      "df4780d82f254dce8b98d37d395a7992",
      "9f982f3e2ba747c0bf0861fb545a7815",
      "eda6f11e4e404830bee7ff3e95fe9650",
      "5207cbc7f4aa4f51ba2fd13f2fb92d77",
      "17f6bac224ef4c2d83869f8dab73a6fc",
      "7747b759d5d4468f84cc6ebba0f15110",
      "b64ca6701e584b63b0fe6d5f0b52b1fc",
      "8660d3c119584682b330a90f156c362a",
      "a96a69d020404f848d52952c45cdda8d",
      "c2d4b68bba454ecdb6338fa65e7232c5",
      "d046c64e45fd44b3a177cff0015d9b0a",
      "ec998f5461b84fa1916bc8af7ee70cce",
      "86967cff10734e539e8769eee0e62082",
      "9252ef41232b4c25be565d4ae1cde838",
      "c68d025160694dc18a190cb061a7fdf0",
      "81212924af9e4992a048b64cb2e6efbe",
      "38b3a30a409a4397a13628f09d4867bb",
      "3994e16eff414561b1327bc902db2e36",
      "ca03c8ed6888424da506bb1803858e69",
      "09a74e387a6d460a9aba08a84405eb62",
      "acfd1e69c0a0468bb3e211be557e4baa",
      "10cd4b2edfc44d2c829145b1c3088473",
      "cdd4dac1282746bfadbdd58bbdf57e3c",
      "48f1e2202c8646f8ab922d92ba73b962",
      "fd1be002c2244aa384fa8109328f9670",
      "3d6595097894448187830f97dbc5a5de",
      "7fe54fae68374037b2b36b26c2ad7bd1",
      "488134c03e4f482f978480994a39feb9",
      "03716134f12346b09b22a3ea0f7a0254",
      "565b58b50e2549d790dcce4a1cae59da",
      "31f1ef7e2208463eb48996393f937746",
      "e947a6a7c455408e94523b07f3b94dba",
      "4817e4730a294c188198bdb8babb5a60",
      "4f9a6aad559e4581bb6f32fe7621a5cf",
      "276249d36a764ef7af37aab98bc4df7a",
      "f21e167a70b24383b7d9c72dcf0d518b",
      "8d05f2c7c1c340b89a22d74479cb8076",
      "4a83c71002b24810be306c3bfb02b90e",
      "8530e6aed9f946bab57396265fd999ce",
      "1cd067f651e04ff0a6ad1f74c92c573f",
      "71322d7636014cdb8ded90d2f045790e",
      "1c66dff5688f46a384f4b969a9d4a24a",
      "3415ac18dcc64b8090139da53dec6e19",
      "fda3d8e154184a06bbc5b423a49f7b81",
      "acad8e34d2fc4fe2814d4aa76556910b",
      "874548a7959e419b97661c2aa175a8e4",
      "11b5c414a7394360b2e13d5f2308c8f5",
      "7c8b73253b014bb094915187af0e6845",
      "41a036f5d8bb49a3a6f69c5800469d41",
      "975a32b7c1c444a89bdc5e940445da89",
      "f2ee52f19e6f4d2482aa577a1c996b33",
      "d0547027173b4de1b9c3b7b44246b764",
      "4421cd0fbafb4ebeba3632633dd1224e",
      "c6e8a9b35d854aa2bcfec3213f4fdb20",
      "7cd7f027c487469382325593edf54f21",
      "214291c0a8fc45c68baa5a223d20cf92",
      "7ca71092c23943ddabe328fe773a4053",
      "f655a717c6c644528ea86cc6d222615a",
      "2fae764a70bc4ed09cb2800a52edfa94",
      "067e1a72ce534ddb92daaea3c8ed3774",
      "ad8488bdf11c41fea1b73193d5144b1a",
      "74fd8ed6816a4029a69957462746afcb",
      "0ec0050b90d34e3eb1f594350db40862",
      "2e44a0fd07bb41d59874592d77bc2fa3",
      "a04368574e3c427cad15bd6e397cbbd1",
      "b62f38629e5245b9a91b3d025619be21",
      "2d365e7aad254aa3b179f3e01e48f782",
      "c15dc4a5236241aebc98d6cb7a1edd2b",
      "5ad78bf0b7de436b8f04a8360bb16de2"
     ]
    },
    "executionInfo": {
     "elapsed": 14091,
     "status": "ok",
     "timestamp": 1759403340878,
     "user": {
      "displayName": "박현빈",
      "userId": "10918390056247911025"
     },
     "user_tz": -540
    },
    "id": "wmT6YQgJfO7T",
    "outputId": "b51ce9af-fbc9-42aa-db14-c6aa7f096659"
   },
   "outputs": [],
   "source": [
    "# @title 3. 요약 모델 파이프라인 로드 (Cell 3)\n",
    "\"\"\"\n",
    "이 셀에서는 기사 요약을 위한 KoBART 기반 모델 파이프라인을 로드합니다.\n",
    "모델: gogamza/kobart-summarization\n",
    "파이프라인 타입: summarization\n",
    "\"\"\"\n",
    "summarizer = pipeline(\n",
    "    task=\"summarization\",\n",
    "    model=\"gogamza/kobart-summarization\",\n",
    "    device=device\n",
    ")\n",
    "print(\"요약 파이프라인 로드 완료.\")"
   ]
  },
  {
   "cell_type": "code",
   "execution_count": null,
   "metadata": {
    "colab": {
     "base_uri": "https://localhost:8080/",
     "height": 1000,
     "referenced_widgets": [
      "33fe535287ad4f0eb79f00d0a9f168cf",
      "9ade09cf24484d43926f8c3bbc4d010d",
      "a7fa5615b6cd4814a35683a7cadb1264",
      "206c27c9cc494fa68c31f42977886447",
      "5daa2c0fa08c4b9d99edda59506014ed",
      "bb1bd1eb073947759c310480b39404d1",
      "68b9643430f34037a4039bf859b53bfa",
      "20b113bdc87d45f895d6ccdfd4d945e2",
      "d0500ea76796438da3b79af255e84ada",
      "e29a03114d2740c09ba9ea4b9d7776eb",
      "d96a65b0effd4f3a888801a31d73c1af"
     ]
    },
    "executionInfo": {
     "elapsed": 10824,
     "status": "ok",
     "timestamp": 1759403351731,
     "user": {
      "displayName": "박현빈",
      "userId": "10918390056247911025"
     },
     "user_tz": -540
    },
    "id": "I3LB2qL6fQom",
    "outputId": "736ab8bb-bfbe-4493-e592-8fa8c031ecdd"
   },
   "outputs": [],
   "source": [
    "# @title 4. 기사 내용 요약 및 데이터셋에 추가 (Cell 4)\n",
    "\"\"\"\n",
    "이 셀에서는 로드된 요약 파이프라인을 사용하여 데이터셋의 'context' 내용을 요약합니다.\n",
    "map 함수를 사용하여 데이터셋의 각 샘플에 요약 함수를 적용하고,\n",
    "결과를 'summary'라는 새로운 컬럼에 저장합니다.\n",
    "\"\"\"\n",
    "# 요약을 수행하는 함수 정의\n",
    "def summarize_context(example):\n",
    "  \"\"\"데이터셋의 'context'를 받아 요약 결과를 반환하는 함수\"\"\"\n",
    "  summary_result = summarizer(\n",
    "        example['context'],\n",
    "        max_length=150,\n",
    "        min_length=30,\n",
    "        do_sample=False  # deterministic 출력을 원하면 False, 다양성을 원하면 True\n",
    "    )\n",
    "    # 결과에서 요약 텍스트 추출\n",
    "  example['summary'] = summary_result[0]['summary_text']\n",
    "  return example\n",
    "\n",
    "print(\"요약 작업을 시작합니다... (데이터 양에 따라 시간이 소요될 수 있습니다)\")\n",
    "summarized_dataset = klue_mrc_subset.map(summarize_context)\n",
    "print(\"요약 작업 완료.\")\n",
    "\n",
    "print(\"\\n요약이 추가된 데이터셋 정보:\")\n",
    "print(summarized_dataset)\n",
    "\n",
    "print(\"\\n첫 번째 데이터의 원문(context)과 요약(summary):\")\n",
    "print(\"--- 원문 (Context) ---\")\n",
    "print(summarized_dataset[0]['context'])\n",
    "print(\"\\n--- 요약 (Summary) ---\")\n",
    "print(summarized_dataset[0]['summary'])\n",
    "\n",
    "# 데이터셋 확인 (Pandas)\n",
    "df_check_summary = pd.DataFrame(summarized_dataset)\n",
    "print(\"\\n요약 추가 후 데이터셋 미리보기 (DataFrame):\")\n",
    "display(df_check_summary.head(3))"
   ]
  },
  {
   "cell_type": "code",
   "execution_count": null,
   "metadata": {
    "colab": {
     "base_uri": "https://localhost:8080/",
     "height": 312,
     "referenced_widgets": [
      "43951cdee7c6476390da29f16ebae388",
      "aebef370105a4ac48a887738a8186130",
      "87e3b7ee889b4c98a05033505dbcb5cf",
      "b90e77dd98d34e7099d51c4c63bd138f",
      "54b91301c3644ae7880ed3f0d6446c03",
      "253f712275fe4cdf8657b13226ea0474",
      "0c36577e9254497080ffd178444e0f67",
      "56def2fcab8b4d4f87a178be4e292832",
      "d27c32162c6a4cbab3950b02998a8687",
      "65dcc335f5fc41aba6612e8cae0d0895",
      "747041754f674b649c4430b52bf69839",
      "b16bd88fd3724b32951577a3124571a6",
      "e8a3422777d64213aad609e07a3d09aa",
      "ff6872e7b4fc44a38e9aba16276e4666",
      "de4d7f2cceef43708c1c9e0885824157",
      "fdd0b19f78aa48e89372aef60d3178ba",
      "39ae211868254616967f2719d0569ab7",
      "a5408390cfc84cc68c1b5a58f3d86ca6",
      "0d0dfb96823049f6a80b916a3fc93650",
      "6b54359c4abc444a8348f59bd988ed31",
      "e3620c4e49ae47b388750e4d8afd5e02",
      "569e3756371049e3a113a549b2b91db5",
      "04f83fb7475e430e90fcab51d91b8238",
      "8ce92faade1243f8b74cea8eac7f31d1",
      "89a7405bbfe94d8895c22bd08e775dd9",
      "00ddc145c51544aeb9d07bceb7c6c427",
      "572df4e876ea4cfdb0db695210e4d7fe",
      "075ba042f38d46bc95bd6feb324972f0",
      "cd7cc3b7882e46e9854cb2bb6e69b19d",
      "b178cadef43f4332a53d1d94264a574a",
      "08c1b786a2694d86b5f84ff780dae041",
      "914bc034d2a844c8a4ba7e6d97495b60",
      "5c1db755c81c4dc9800835625087aff9",
      "a42637d398a344b7934c5260d76f92cd",
      "4e0d615cf44d45ae8cab002093afccb6",
      "875abde5180a4d4aa9ff0b3c4f52bd61",
      "e2b796abf0c44f00863ccec04f8854bc",
      "a62fd33de21b49f994335e4d5605dc60",
      "abb757b1e9854f3c80871693054f2ded",
      "74ecf3ded70b474cb119eaee4231a5bc",
      "5f8be9ce14a742b780044caabf036bba",
      "0d6616faa2234a03aa8386219a4d1527",
      "b27cf174599d496fa09da87cf75b4672",
      "b486fba0785f4783a8913953bdf15aab",
      "fb64a4329e044d08a507266ba64a2227",
      "22aa6f237e894cd7a5148fad4e17c9ff",
      "880cf7db06f94332b6a1f079903e2bab",
      "fbe8d1c7aab6499ba1bca2a669576879",
      "729a7d0dda484579ae2b759763f134ba",
      "a89205cfa2ea41ad97c520ac86bf5348",
      "d34a35bfe7e34c4996ccc95710ed74fc",
      "27616c4be7314d93a04c9cc26e069977",
      "6c03916fd0064225b1e78f05e72bc1d5",
      "8cb41d1508e6467c95c4e8ae03fb34fb",
      "51db5b14234245e6a8df4b70760b8817",
      "6984ae7ed6d04d6bb6361285eadee223",
      "5a188cf928e44a58b9da65da6ab792e2",
      "9ed610d5a77f432c9c7fe2754226857d",
      "d6b40afc87e54b6da27c1860e62cfc4e",
      "ad09777fcae54e8e8954037b69019fb1",
      "129b6fab89e1413a9b00441ad767a585",
      "af7d7b8d2cea4d22bfb3556b11fccd0d",
      "635f61e9fe774e949053cacfed25ac09",
      "3322f53c9676482ab045f460a7e058d9",
      "8160ed92823345a6873704be75fa8813",
      "a528c07d5ca940848e2fac0f6fe591c5",
      "98d5efe569904e8988e02ee34d272f5a",
      "da3bac3f2e164899b04b2ea3003e09e0",
      "50efa85df7ff45b2bd780d39718373de",
      "9bcb8f62177d478991a6f8dc3e6eb682",
      "c4028472b80d4d7bba75bb82d58de2b9",
      "06a50bbd83e54c1781f422caf69d6da9",
      "bad07bd06ec043c482f6a07d875c1669",
      "87f1c7161ab64bbbbecf7c9c6c313f8c",
      "9de1a31a779f4a57b884c30bb08b8cde",
      "7da00ba448e1450a829079b966481de1",
      "050ed66cb5634eab942fede8273b2de7",
      "9991c94db1a544739af652610cce98c0",
      "690dc12053c6465fb8171bd3fee33eba",
      "54f4e89d88ba4a0ebd2e196ff983e178",
      "3029e7c3eb574fc6a806090799983a45",
      "175a8624c3e84ca991f0e0ba1ce72da2",
      "48456df1a0504a13a888ddf9135930bd",
      "d64e1ecd60e04c12a4c4bf38c1926390",
      "37babd89ecee434786db19837a91a53c",
      "8213f76a7af3460ca90d276c5288a0b3",
      "49c404bdbdc7411f8513f8117b63db1d",
      "d9a26b53360d4cfbb475f821dc8fe5bf"
     ]
    },
    "executionInfo": {
     "elapsed": 280813,
     "status": "ok",
     "timestamp": 1759403998509,
     "user": {
      "displayName": "박현빈",
      "userId": "10918390056247911025"
     },
     "user_tz": -540
    },
    "id": "a84zkTptfTf9",
    "outputId": "e3f4dba3-8196-416c-ae77-e6f154275769"
   },
   "outputs": [],
   "source": [
    "# @title 5. 번역 모델 파이프라인 로드 (Cell 5)\n",
    "\"\"\"\n",
    "이 셀에서는 한국어 요약본을 영어로 번역하기 위한 NLLB 모델 파이프라인을 로드합니다.\n",
    "모델: facebook/nllb-200-distilled-600M\n",
    "파이프라인 타입: translation\n",
    "NLLB 모델은 다양한 언어를 지원하며, 언어 코드를 지정해야 합니다.\n",
    "한국어: kor_Hang, 영어: eng_Latn\n",
    "\"\"\"\n",
    "translator = pipeline(\n",
    "    task=\"translation\",\n",
    "    model=\"facebook/nllb-200-distilled-600M\",\n",
    "    device=device\n",
    ")\n",
    "\n",
    "print(\"번역 파이프라인 로드 완료.\")\n",
    "\n",
    "# 번역 테스트 (선택 사항)\n",
    "test_translation = translator(\n",
    "    \"안녕하세요?\",\n",
    "    src_lang=\"kor_Hang\",\n",
    "    tgt_lang=\"eng_Latn\"\n",
    ")"
   ]
  },
  {
   "cell_type": "code",
   "execution_count": null,
   "metadata": {
    "colab": {
     "base_uri": "https://localhost:8080/",
     "height": 1000,
     "referenced_widgets": [
      "62c39c751e86435e80429643c6c9435b",
      "cb5f04d758c144ef8ef62616a1c08fba",
      "0c8883f5dc6b4d79bb972e43f7107950",
      "97da3ec4c41f4eaeb99b8fd4383dc866",
      "0365f9bc541940a6bb61b0ef4c1b6466",
      "90fecc0738ec42ae9781519c9176b5b1",
      "932b60c65f684eddae100425eccb5de8",
      "bdd08d46f2034e6e908925c6cbd81abe",
      "0d7261f2380549a6940c637d9c11e711",
      "ea24a5fe80bd4e63a2de199fbd4555d7",
      "9acfa57d72684e87be129709a4804b9f"
     ]
    },
    "executionInfo": {
     "elapsed": 25335,
     "status": "ok",
     "timestamp": 1759404023856,
     "user": {
      "displayName": "박현빈",
      "userId": "10918390056247911025"
     },
     "user_tz": -540
    },
    "id": "0drRaREnfVn2",
    "outputId": "0a364812-8c08-457c-cdf7-c43f287c4c39"
   },
   "outputs": [],
   "source": [
    "# @title 6. 기사 요약본 영어로 번역 및 데이터셋에 추가 (Cell 6)\n",
    "\"\"\"\n",
    "이 셀에서는 생성된 'summary' 컬럼의 한국어 텍스트를 영어로 번역합니다.\n",
    "map 함수를 사용하여 번역 함수를 적용하고,\n",
    "결과를 'english_summary'라는 새로운 컬럼에 저장합니다.\n",
    "\"\"\"\n",
    "# 번역을 수행하는 함수 정의\n",
    "def translate_summary_to_english(example):\n",
    "  \"\"\"데이터셋의 'summary'를 받아 영어 번역 결과를 반환하는 함수\"\"\"\n",
    "  translation_result = translator(\n",
    "        example['summary'],\n",
    "        src_lang=\"kor_Hang\",\n",
    "        tgt_lang=\"eng_Latn\",\n",
    "        max_length=150,\n",
    "        min_length=30,\n",
    "        do_sample=False  # deterministic 출력을 원하면 False, 다양성을 원하면 True\n",
    "    )\n",
    "    # 결과에서 번역 텍스트 추출\n",
    "  example['english_summary'] = translation_result[0]['translation_text']\n",
    "  return example\n",
    "\n",
    "print(\"번역 작업을 시작합니다... (모델 크기와 데이터 양에 따라 시간이 많이 소요될 수 있습니다)\")\n",
    "translated_dataset = summarized_dataset.map(translate_summary_to_english)\n",
    "print(\"번역 작업 완료.\")\n",
    "\n",
    "print(\"\\n번역이 추가된 데이터셋 정보:\")\n",
    "print(translated_dataset)\n",
    "\n",
    "print(\"\\n첫 번째 데이터의 한국어 요약(summary)과 영어 번역(english_summary):\")\n",
    "print(\"--- 한국어 요약 (Summary) ---\")\n",
    "print(translated_dataset[0]['summary'])\n",
    "print(\"\\n--- 영어 번역 (English Summary) ---\")\n",
    "print(translated_dataset[0]['english_summary'])\n",
    "\n",
    "# 데이터셋 확인 (Pandas)\n",
    "df_check_translation = pd.DataFrame(translated_dataset)\n",
    "print(\"\\n번역 추가 후 데이터셋 미리보기 (DataFrame):\")\n",
    "display(df_check_translation.head(3))"
   ]
  },
  {
   "cell_type": "code",
   "execution_count": null,
   "metadata": {
    "colab": {
     "base_uri": "https://localhost:8080/",
     "height": 300,
     "referenced_widgets": [
      "81030e5a6a764f7f8c5a60f5a37d94e4",
      "4065f77a49ed44e28a3dbcf3f0c81d67",
      "5b8cb0d710a446b2a86eafccb59be76b",
      "821b1989fe2a47ab9ed3409fbb82ed81",
      "737a039941cb4914b3db0ff1617f6ec5",
      "02119fe3169a48dca2fe5dc325e06f7a",
      "6d8efc4b6f3e4bec9c8efa950c0841a8",
      "9a43e35ae1fc4c3b98e679e5a7a5506b",
      "1dfeb73d6110453794da9e434a771fb5",
      "c1ba47221bc843c7ba551d857ad3f539",
      "65f7cf20b05f4bdca54ec0707f9f6433",
      "7a72fcb4abb34e67a0dd6c220e743df9",
      "b8fab02d90da40beb150489babf17a4b",
      "fde85e30910547ee9916ff0d9c4bfbad",
      "db26d00567e6470fb484815e5935da38",
      "4a868953664e4c32848ea9db7948b641",
      "b3c3a60eac44424a98bf6ea2efe73bf7",
      "c7e7702463f34ee58c8d39c4285f1baf",
      "109cd55299e24e44ac35bc9f21d20141",
      "5b829cbbcb444318a3ee3f96777ce096",
      "dda63da6bb8d4f6084bbad1368612eba",
      "169a065788a44992b6dd21bb7961717d",
      "bb352fed9e774eedbd023883352054a4",
      "8a9eb42c038d428ba243832a0e2ca104",
      "70b174590a1d42ccb201fffdf015a224",
      "5f3ec3c59a52457ca74eb7e721cbde14",
      "d9748536bb284c05b550b42a92cb5805",
      "162814b77b7f4d61944300ef6a8d7118",
      "c6b7ae37ab8c4715a22428adf8862213",
      "a17bbda911f1469aa39db8c69f4c9133",
      "52cad469b2f94c93a81f2ddc3fa67265",
      "5cfdbb6fe23d48939cc7d882761cc9f3",
      "5510192eeb90469e96d23289548fa6f5",
      "023467f7cb8e4730a53384102845643a",
      "b9b887f8e1b941908d6fe3a553b2f224",
      "6ca469f438c548159f0132d05de366f4",
      "fdba53efa22d43ca849b15f4f22ac423",
      "ee339d1b94034e18b6f20986a37439d2",
      "11d583360ed443d78ce7a3dcb62f46fa",
      "4158095e430043c7aa2390fb8198be5b",
      "0bcfe062f1d74c9586c64b5a59fc90ce",
      "218c0ca26a314e479c99d6ef839f5af7",
      "b000277d578b4489b68e00fa95065235",
      "893a6576811e43068e25a062978a2ad7",
      "60e9d01e4cfb43db8e1570d7f745b7ec",
      "8c5d0ab63e4645449723923e48dba6ff",
      "cc62d5339ae84f2693da092398937777",
      "f9948d497d5e4c9c961e6943123f94ea",
      "0a6acec6757145e9b6541d081cb46c19",
      "0f505382f2f247888c75018c0a86077e",
      "f09f67bc4a184b869b71afb34488da20",
      "84812bd302614872a08a829d7d88c7c7",
      "56d6be73811840ba9fabd43da1f913d3",
      "69b4e9857593484589a032f7de76726a",
      "c595db2ac9d945139f88ae106a95c69b",
      "ab920164014747828239744417a82041",
      "8384cd5925df422785b86065083ee5b8",
      "bf98fb3c62ea401887f4d8fda97a05ec",
      "5fb1b66217494fc7a6da2397730db577",
      "9774c9fe98f1483d8c203abbbab6cea4",
      "6ea950ab85814271b1e623f9cb59b7df",
      "d97b07753f0c438387a233837d879083",
      "3440f9a27d9e4a09b8b8e60cb71419c1",
      "fb1fbe85d09f4733b4a5fd2e142faa2f",
      "2f9b194e5982441caa8399560befedb4",
      "8bb4e395ab1b489bb8ea8f6250e2e3f9",
      "13ff9c8f4add4b8abcd4b858995ec736",
      "e33657e0a3714ca1b84c3af4fe918295",
      "66bcd37582f348dc85359696aeca7186",
      "480e5d04d69e4bee9e7142d60ad15c76",
      "a6aead0adc2f4855b67260f5fd859bf9",
      "46b2356f007840ce83ba9963815c47a7",
      "01c9b74916a3419e9194b7db19a915e9",
      "3ccbcbf1f26e4056bb9b5213b5f966b5",
      "5d8b2b0fd7b441caaa1433cd9d0b1359",
      "5ef9701da46b4809aef5e4c1fed32666",
      "b091d51903fd44459c9b55a647289e94"
     ]
    },
    "executionInfo": {
     "elapsed": 7349,
     "status": "ok",
     "timestamp": 1759404031278,
     "user": {
      "displayName": "박현빈",
      "userId": "10918390056247911025"
     },
     "user_tz": -540
    },
    "id": "VsiLRqSWfYEt",
    "outputId": "89597c33-ca5e-46f9-f4ad-7705ee199970"
   },
   "outputs": [],
   "source": [
    "# @title 7. 감정 분석 모델 파이프라인 로드 (Cell 7)\n",
    "\"\"\"\n",
    "이 셀에서는 영어 텍스트의 감정을 분석하기 위한 모델 파이프라인을 로드합니다.\n",
    "모델: SamLowe/roberta-base-go_emotions\n",
    "파이프라인 타입: text-classification\n",
    "이 모델은 다중 레이블 감정(분노, 기쁨, 슬픔 등)을 예측할 수 있습니다.\n",
    "\"\"\"\n",
    "emotion_classifier = pipeline(\n",
    "    task=\"text-classification\",\n",
    "    model=\"SamLowe/roberta-base-go_emotions\",\n",
    "    top_k=1,\n",
    "    device=device\n",
    ")\n",
    "print(\"감정 분석 파이프라인 로드 완료.\")\n",
    "\n",
    "# 감정 분석 테스트 (선택 사항)\n",
    "test_emotion = emotion_classifier(\"I am very happy today!\")\n",
    "print(f\"감정 분석 테스트: {test_emotion[0][0]}\")"
   ]
  },
  {
   "cell_type": "code",
   "execution_count": null,
   "metadata": {
    "colab": {
     "base_uri": "https://localhost:8080/",
     "height": 1000,
     "referenced_widgets": [
      "e97d8a9d54804783a6f7edbfb92e0bd7",
      "ce2bd622e4774247a96d8b7be4b5f859",
      "fb20f2a69a7c4dde8a4dd70aaaa9b6ad",
      "00ae67355b374388a5199413d7f30bde",
      "cbbff06d96a14788ac5af884ab3ffb8e",
      "c8119036071f4b26afc04c5195d09ba9",
      "c9cf260bd4c64a1985f8e8e4a2768617",
      "03f65f7163c444efa0cd411b11460b3b",
      "a840234f8ceb492f8c0ab88a755544c5",
      "28d024ee7583459cad905fa279a88117",
      "85515026d9a641c1aef3c7d1484bbbcd"
     ]
    },
    "executionInfo": {
     "elapsed": 3294,
     "status": "ok",
     "timestamp": 1759404034612,
     "user": {
      "displayName": "박현빈",
      "userId": "10918390056247911025"
     },
     "user_tz": -540
    },
    "id": "xLE4i46FfaCG",
    "outputId": "19bc2a0a-1d72-401e-c1c0-5fb4d5bd4b23"
   },
   "outputs": [],
   "source": [
    "# @title 8. 영어 번역본 감정 분석 및 데이터셋에 추가 (Cell 8)\n",
    "\"\"\"\n",
    "이 셀에서는 번역된 'english_summary' 컬럼의 텍스트에 대해 감정 분석을 수행합니다.\n",
    "map 함수를 사용하여 감정 분석 함수를 적용하고,\n",
    "가장 확률이 높은 감정 레이블을 'emotion'이라는 새로운 컬럼에 저장합니다.\n",
    "\"\"\"\n",
    "# 감정 분석을 수행하는 함수 정의\n",
    "def analyze_emotion(example):\n",
    "  \"\"\"데이터셋의 'english_summary'를 받아 감정 분석 결과를 반환하는 함수\"\"\"\n",
    "  emotion_result = emotion_classifier(example['english_summary'])\n",
    "    # 결과는 [[{'label': '...', 'score': ...}]] 형태 (top_k=1이므로 리스트 길이 1)\n",
    "  example['emotion'] = emotion_result[0][0]['label']\n",
    "  return example\n",
    "\n",
    "print(\"감정 분석 작업을 시작합니다...\")\n",
    "final_dataset = translated_dataset.map(analyze_emotion)\n",
    "print(\"감정 분석 작업 완료.\")\n",
    "\n",
    "print(\"\\n최종 데이터셋 정보:\")\n",
    "print(final_dataset)\n",
    "\n",
    "print(\"\\n첫 번째 데이터의 영어 번역(english_summary)과 감정(emotion):\")\n",
    "print(\"--- 영어 번역 (English Summary) ---\")\n",
    "print(final_dataset[0]['english_summary'])\n",
    "print(\"\\n--- 분석된 감정 (Emotion) ---\")\n",
    "print(final_dataset[0]['emotion'])\n",
    "\n",
    "# 최종 데이터셋 확인 (Pandas)\n",
    "df_final = pd.DataFrame(final_dataset)\n",
    "print(\"\\n최종 데이터셋 미리보기 (DataFrame):\")\n",
    "display(df_final) # 전체 선택된 샘플 표시"
   ]
  },
  {
   "cell_type": "code",
   "execution_count": null,
   "metadata": {
    "colab": {
     "base_uri": "https://localhost:8080/"
    },
    "executionInfo": {
     "elapsed": 43,
     "status": "ok",
     "timestamp": 1759404034666,
     "user": {
      "displayName": "박현빈",
      "userId": "10918390056247911025"
     },
     "user_tz": -540
    },
    "id": "NWJksEW6fcmB",
    "outputId": "fc8c4dc4-9af1-47db-a0e0-cc398224c1f7"
   },
   "outputs": [],
   "source": [
    "# @title 9. 결과 정리 및 마무리 (Cell 9)\n",
    "\"\"\"\n",
    "모든 단계를 거쳐 생성된 최종 데이터셋(final_dataset)에는\n",
    "원본 KLUE-MRC 데이터에 'summary', 'english_summary', 'emotion' 컬럼이 추가되었습니다.\n",
    "이 데이터를 CSV 파일로 저장하거나 추가 분석에 활용할 수 있습니다.\n",
    "\"\"\"\n",
    "print(\"모든 작업이 완료되었습니다.\")\n",
    "print(\"최종 데이터셋 컬럼:\", final_dataset.column_names)\n",
    "\n",
    "# 최종 결과 확인 (첫 5개 샘플)\n",
    "for i in range(min(5, len(final_dataset))):\n",
    "  print(f\"\\n--- 샘플 {i+1} ---\")\n",
    "  print(f\"원문 일부: {final_dataset[i]['context'][:100]}...\")\n",
    "  print(f\"요약: {final_dataset[i]['summary']}\")\n",
    "  print(f\"영어 번역: {final_dataset[i]['english_summary']}\")\n",
    "  print(f\"감정 분석: {final_dataset[i]['emotion']}\")"
   ]
  },
  {
   "cell_type": "code",
   "execution_count": null,
   "metadata": {
    "colab": {
     "base_uri": "https://localhost:8080/"
    },
    "executionInfo": {
     "elapsed": 117,
     "status": "ok",
     "timestamp": 1759404337501,
     "user": {
      "displayName": "박현빈",
      "userId": "10918390056247911025"
     },
     "user_tz": -540
    },
    "id": "pXvGp28UdF5g",
    "outputId": "57407ed5-5d99-4fea-e7e2-70c64be4c7d1"
   },
   "outputs": [],
   "source": [
    "%ls"
   ]
  },
  {
   "cell_type": "code",
   "execution_count": null,
   "metadata": {
    "colab": {
     "base_uri": "https://localhost:8080/"
    },
    "executionInfo": {
     "elapsed": 23116,
     "status": "ok",
     "timestamp": 1759404367700,
     "user": {
      "displayName": "박현빈",
      "userId": "10918390056247911025"
     },
     "user_tz": -540
    },
    "id": "ub1ebXDfq7wm",
    "outputId": "48d798e9-bfed-443b-fd5e-510e90fc401a"
   },
   "outputs": [],
   "source": [
    "from google.colab import drive\n",
    "drive.mount('/content/drive')"
   ]
  },
  {
   "cell_type": "code",
   "execution_count": null,
   "metadata": {
    "colab": {
     "base_uri": "https://localhost:8080/"
    },
    "executionInfo": {
     "elapsed": 121,
     "status": "ok",
     "timestamp": 1759404423107,
     "user": {
      "displayName": "박현빈",
      "userId": "10918390056247911025"
     },
     "user_tz": -540
    },
    "id": "VL5v0n1hrPK4",
    "outputId": "4859e341-0c6b-415f-b948-d756a4f304bd"
   },
   "outputs": [],
   "source": [
    "%ls"
   ]
  },
  {
   "cell_type": "code",
   "execution_count": null,
   "metadata": {
    "colab": {
     "base_uri": "https://localhost:8080/"
    },
    "executionInfo": {
     "elapsed": 17,
     "status": "ok",
     "timestamp": 1759404440769,
     "user": {
      "displayName": "박현빈",
      "userId": "10918390056247911025"
     },
     "user_tz": -540
    },
    "id": "s4jRlnHxrQAA",
    "outputId": "acc15927-e559-4e97-fe4e-5773a3fff1e0"
   },
   "outputs": [],
   "source": [
    "%cd drive/MyDrive/git"
   ]
  },
  {
   "cell_type": "code",
   "execution_count": null,
   "metadata": {
    "colab": {
     "base_uri": "https://localhost:8080/"
    },
    "executionInfo": {
     "elapsed": 115,
     "status": "ok",
     "timestamp": 1759404444315,
     "user": {
      "displayName": "박현빈",
      "userId": "10918390056247911025"
     },
     "user_tz": -540
    },
    "id": "PRRanPF5rUVn",
    "outputId": "9a264df0-a1e1-4969-eec9-28d9f19c5011"
   },
   "outputs": [],
   "source": [
    "%ls"
   ]
  },
  {
   "cell_type": "code",
   "execution_count": null,
   "metadata": {
    "colab": {
     "base_uri": "https://localhost:8080/"
    },
    "executionInfo": {
     "elapsed": 17,
     "status": "ok",
     "timestamp": 1759404451949,
     "user": {
      "displayName": "박현빈",
      "userId": "10918390056247911025"
     },
     "user_tz": -540
    },
    "id": "ujxVe-lBrVE2",
    "outputId": "066829b7-ba14-4b8d-ef9d-9a66745c9ac1"
   },
   "outputs": [],
   "source": [
    "%cd 3-huggingface/"
   ]
  },
  {
   "cell_type": "code",
   "execution_count": null,
   "metadata": {
    "executionInfo": {
     "elapsed": 5669,
     "status": "ok",
     "timestamp": 1759404463279,
     "user": {
      "displayName": "박현빈",
      "userId": "10918390056247911025"
     },
     "user_tz": -540
    },
    "id": "maAj_s9GrW2v"
   },
   "outputs": [],
   "source": [
    "!git add ."
   ]
  },
  {
   "cell_type": "code",
   "execution_count": null,
   "metadata": {
    "executionInfo": {
     "elapsed": 209,
     "status": "ok",
     "timestamp": 1759404492707,
     "user": {
      "displayName": "박현빈",
      "userId": "10918390056247911025"
     },
     "user_tz": -540
    },
    "id": "V7B1Da4crdN3"
   },
   "outputs": [],
   "source": [
    "!git config --global user.email \"eoeldroal@naver.com\"\n",
    "!git config --global user.name \"eoeldroal\""
   ]
  },
  {
   "cell_type": "code",
   "execution_count": null,
   "metadata": {
    "colab": {
     "base_uri": "https://localhost:8080/"
    },
    "executionInfo": {
     "elapsed": 2230,
     "status": "ok",
     "timestamp": 1759404497205,
     "user": {
      "displayName": "박현빈",
      "userId": "10918390056247911025"
     },
     "user_tz": -540
    },
    "id": "dD0gG5fLrYg0",
    "outputId": "17016d6b-f726-44e1-de6c-4693718f980f"
   },
   "outputs": [],
   "source": [
    "! git commit -m \"All Done\""
   ]
  },
  {
   "cell_type": "code",
   "execution_count": null,
   "metadata": {
    "colab": {
     "base_uri": "https://localhost:8080/"
    },
    "executionInfo": {
     "elapsed": 2757,
     "status": "ok",
     "timestamp": 1759404503734,
     "user": {
      "displayName": "박현빈",
      "userId": "10918390056247911025"
     },
     "user_tz": -540
    },
    "id": "EJrPW-FYrhrh",
    "outputId": "2a08950c-5bdb-4336-b160-e95065d5e685"
   },
   "outputs": [],
   "source": [
    "!git push"
   ]
  }
 ],
 "metadata": {
  "accelerator": "GPU",
  "colab": {
   "gpuType": "T4",
   "provenance": []
  },
  "kernelspec": {
   "display_name": "Python 3",
   "name": "python3"
  },
  "language_info": {
   "name": "python"
  }
 },
 "nbformat": 4,
 "nbformat_minor": 0
}
